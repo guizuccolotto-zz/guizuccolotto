{
  "nbformat": 4,
  "nbformat_minor": 0,
  "metadata": {
    "colab": {
      "name": "Busca.ipynb",
      "provenance": [],
      "mount_file_id": "1MgPy7S0XrLrEQJ-z4BiP1py1N3AVOXcT",
      "authorship_tag": "ABX9TyMrtXn2B57Wez9la0yORu0W",
      "include_colab_link": true
    },
    "kernelspec": {
      "name": "python3",
      "display_name": "Python 3"
    },
    "language_info": {
      "name": "python"
    },
    "accelerator": "GPU"
  },
  "cells": [
    {
      "cell_type": "markdown",
      "metadata": {
        "id": "view-in-github",
        "colab_type": "text"
      },
      "source": [
        "<a href=\"https://colab.research.google.com/github/guizuccolotto/guizuccolotto/blob/main/Busca.ipynb\" target=\"_parent\"><img src=\"https://colab.research.google.com/assets/colab-badge.svg\" alt=\"Open In Colab\"/></a>"
      ]
    },
    {
      "cell_type": "code",
      "metadata": {
        "id": "h3dk6o6YfBzz"
      },
      "source": [
        "# natural language processing: n-gram ranking\n",
        "import re\n",
        "import unicodedata\n",
        "import nltk\n",
        "from nltk.corpus import stopwords\n",
        "\n",
        "\n",
        "import matplotlib.pyplot as plt\n",
        "import seaborn as sns\n",
        "import numpy as np\n",
        "import pandas as pd"
      ],
      "execution_count": 1,
      "outputs": []
    },
    {
      "cell_type": "code",
      "metadata": {
        "colab": {
          "base_uri": "https://localhost:8080/",
          "height": 204
        },
        "id": "uksTlFbpfH0z",
        "outputId": "dcdf63a8-4a78-45da-f977-3a846d39de25"
      },
      "source": [
        "df_busca = pd.read_csv(\"/content/drive/MyDrive/bq-results-20210621-091005-cme35l4koyr7/bq-results-20210621-091005-cme35l4koyr7.csv\")\n",
        "df_busca.head()"
      ],
      "execution_count": 2,
      "outputs": [
        {
          "output_type": "execute_result",
          "data": {
            "text/html": [
              "<div>\n",
              "<style scoped>\n",
              "    .dataframe tbody tr th:only-of-type {\n",
              "        vertical-align: middle;\n",
              "    }\n",
              "\n",
              "    .dataframe tbody tr th {\n",
              "        vertical-align: top;\n",
              "    }\n",
              "\n",
              "    .dataframe thead th {\n",
              "        text-align: right;\n",
              "    }\n",
              "</style>\n",
              "<table border=\"1\" class=\"dataframe\">\n",
              "  <thead>\n",
              "    <tr style=\"text-align: right;\">\n",
              "      <th></th>\n",
              "      <th>plataforma</th>\n",
              "      <th>eventLabel</th>\n",
              "      <th>distinctUsers</th>\n",
              "      <th>countUsers</th>\n",
              "      <th>hitsBusca</th>\n",
              "    </tr>\n",
              "  </thead>\n",
              "  <tbody>\n",
              "    <tr>\n",
              "      <th>0</th>\n",
              "      <td>App - Android</td>\n",
              "      <td>mgtv_belo_h</td>\n",
              "      <td>9</td>\n",
              "      <td>9</td>\n",
              "      <td>9</td>\n",
              "    </tr>\n",
              "    <tr>\n",
              "      <th>1</th>\n",
              "      <td>App - iOS</td>\n",
              "      <td>the_big_ban</td>\n",
              "      <td>1301</td>\n",
              "      <td>1646</td>\n",
              "      <td>1646</td>\n",
              "    </tr>\n",
              "    <tr>\n",
              "      <th>2</th>\n",
              "      <td>App - Android</td>\n",
              "      <td>big_be</td>\n",
              "      <td>503</td>\n",
              "      <td>643</td>\n",
              "      <td>643</td>\n",
              "    </tr>\n",
              "    <tr>\n",
              "      <th>3</th>\n",
              "      <td>App - Android</td>\n",
              "      <td>tapas_e_be</td>\n",
              "      <td>147</td>\n",
              "      <td>183</td>\n",
              "      <td>183</td>\n",
              "    </tr>\n",
              "    <tr>\n",
              "      <th>4</th>\n",
              "      <td>App - Android</td>\n",
              "      <td>transplante</td>\n",
              "      <td>745</td>\n",
              "      <td>1003</td>\n",
              "      <td>1003</td>\n",
              "    </tr>\n",
              "  </tbody>\n",
              "</table>\n",
              "</div>"
            ],
            "text/plain": [
              "      plataforma   eventLabel  distinctUsers  countUsers  hitsBusca\n",
              "0  App - Android  mgtv_belo_h              9           9          9\n",
              "1      App - iOS  the_big_ban           1301        1646       1646\n",
              "2  App - Android       big_be            503         643        643\n",
              "3  App - Android   tapas_e_be            147         183        183\n",
              "4  App - Android  transplante            745        1003       1003"
            ]
          },
          "metadata": {
            "tags": []
          },
          "execution_count": 2
        }
      ]
    },
    {
      "cell_type": "code",
      "metadata": {
        "colab": {
          "base_uri": "https://localhost:8080/",
          "height": 418
        },
        "id": "60K1D_LhfSnM",
        "outputId": "09a3ac80-d90a-4926-fedf-44ac6dee554a"
      },
      "source": [
        "df_busca.sort_values(by=[\"plataforma\",\"eventLabel\"])"
      ],
      "execution_count": 3,
      "outputs": [
        {
          "output_type": "execute_result",
          "data": {
            "text/html": [
              "<div>\n",
              "<style scoped>\n",
              "    .dataframe tbody tr th:only-of-type {\n",
              "        vertical-align: middle;\n",
              "    }\n",
              "\n",
              "    .dataframe tbody tr th {\n",
              "        vertical-align: top;\n",
              "    }\n",
              "\n",
              "    .dataframe thead th {\n",
              "        text-align: right;\n",
              "    }\n",
              "</style>\n",
              "<table border=\"1\" class=\"dataframe\">\n",
              "  <thead>\n",
              "    <tr style=\"text-align: right;\">\n",
              "      <th></th>\n",
              "      <th>plataforma</th>\n",
              "      <th>eventLabel</th>\n",
              "      <th>distinctUsers</th>\n",
              "      <th>countUsers</th>\n",
              "      <th>hitsBusca</th>\n",
              "    </tr>\n",
              "  </thead>\n",
              "  <tbody>\n",
              "    <tr>\n",
              "      <th>311298</th>\n",
              "      <td>Android TV</td>\n",
              "      <td>1_co</td>\n",
              "      <td>0</td>\n",
              "      <td>0</td>\n",
              "      <td>1</td>\n",
              "    </tr>\n",
              "    <tr>\n",
              "      <th>281358</th>\n",
              "      <td>Android TV</td>\n",
              "      <td>1_con</td>\n",
              "      <td>0</td>\n",
              "      <td>0</td>\n",
              "      <td>1</td>\n",
              "    </tr>\n",
              "    <tr>\n",
              "      <th>291972</th>\n",
              "      <td>Android TV</td>\n",
              "      <td>1_contra</td>\n",
              "      <td>0</td>\n",
              "      <td>0</td>\n",
              "      <td>1</td>\n",
              "    </tr>\n",
              "    <tr>\n",
              "      <th>365441</th>\n",
              "      <td>Android TV</td>\n",
              "      <td>1_contra_</td>\n",
              "      <td>0</td>\n",
              "      <td>0</td>\n",
              "      <td>1</td>\n",
              "    </tr>\n",
              "    <tr>\n",
              "      <th>287971</th>\n",
              "      <td>Android TV</td>\n",
              "      <td>1_contra_t</td>\n",
              "      <td>0</td>\n",
              "      <td>0</td>\n",
              "      <td>1</td>\n",
              "    </tr>\n",
              "    <tr>\n",
              "      <th>...</th>\n",
              "      <td>...</td>\n",
              "      <td>...</td>\n",
              "      <td>...</td>\n",
              "      <td>...</td>\n",
              "      <td>...</td>\n",
              "    </tr>\n",
              "    <tr>\n",
              "      <th>700951</th>\n",
              "      <td>Web - Mobile</td>\n",
              "      <td>🤣_🤣_🤣_😡</td>\n",
              "      <td>1</td>\n",
              "      <td>1</td>\n",
              "      <td>1</td>\n",
              "    </tr>\n",
              "    <tr>\n",
              "      <th>2256443</th>\n",
              "      <td>Web - Mobile</td>\n",
              "      <td>🤷_😭_😋_😍</td>\n",
              "      <td>1</td>\n",
              "      <td>1</td>\n",
              "      <td>1</td>\n",
              "    </tr>\n",
              "    <tr>\n",
              "      <th>2661838</th>\n",
              "      <td>Web - Mobile</td>\n",
              "      <td>🥺_😶_🥳_🤦🏻‍♀️_🙏🏻_🤞🏻_📚_✨</td>\n",
              "      <td>1</td>\n",
              "      <td>1</td>\n",
              "      <td>1</td>\n",
              "    </tr>\n",
              "    <tr>\n",
              "      <th>1500001</th>\n",
              "      <td>Web - Mobile</td>\n",
              "      <td>🥺_😶_🥳_🤦🏻‍♀️_🙏🏻_🤞🏻_📚_✨_❤️_🌪️_🤡</td>\n",
              "      <td>1</td>\n",
              "      <td>1</td>\n",
              "      <td>1</td>\n",
              "    </tr>\n",
              "    <tr>\n",
              "      <th>1838956</th>\n",
              "      <td>Web - Mobile</td>\n",
              "      <td>🥺_😶_🥳_🤦🏻‍♀️_🙏🏻_🤞🏻_📚_✨_❤️_🌪️_🤡_🤯</td>\n",
              "      <td>1</td>\n",
              "      <td>1</td>\n",
              "      <td>1</td>\n",
              "    </tr>\n",
              "  </tbody>\n",
              "</table>\n",
              "<p>5944459 rows × 5 columns</p>\n",
              "</div>"
            ],
            "text/plain": [
              "           plataforma                       eventLabel  ...  countUsers  hitsBusca\n",
              "311298     Android TV                             1_co  ...           0          1\n",
              "281358     Android TV                            1_con  ...           0          1\n",
              "291972     Android TV                         1_contra  ...           0          1\n",
              "365441     Android TV                        1_contra_  ...           0          1\n",
              "287971     Android TV                       1_contra_t  ...           0          1\n",
              "...               ...                              ...  ...         ...        ...\n",
              "700951   Web - Mobile                          🤣_🤣_🤣_😡  ...           1          1\n",
              "2256443  Web - Mobile                          🤷_😭_😋_😍  ...           1          1\n",
              "2661838  Web - Mobile            🥺_😶_🥳_🤦🏻‍♀️_🙏🏻_🤞🏻_📚_✨  ...           1          1\n",
              "1500001  Web - Mobile    🥺_😶_🥳_🤦🏻‍♀️_🙏🏻_🤞🏻_📚_✨_❤️_🌪️_🤡  ...           1          1\n",
              "1838956  Web - Mobile  🥺_😶_🥳_🤦🏻‍♀️_🙏🏻_🤞🏻_📚_✨_❤️_🌪️_🤡_🤯  ...           1          1\n",
              "\n",
              "[5944459 rows x 5 columns]"
            ]
          },
          "metadata": {
            "tags": []
          },
          "execution_count": 3
        }
      ]
    },
    {
      "cell_type": "code",
      "metadata": {
        "colab": {
          "base_uri": "https://localhost:8080/"
        },
        "id": "ig2ZbFV5HYKA",
        "outputId": "f228e416-73fa-4bdb-cf40-1772ec9863e9"
      },
      "source": [
        "%tensorflow_version 2.x\n",
        "import tensorflow as tf\n",
        "device_name = tf.test.gpu_device_name()\n",
        "if device_name != '/device:GPU:0':\n",
        "  raise SystemError('GPU device not found')\n",
        "print('Found GPU at: {}'.format(device_name))"
      ],
      "execution_count": 4,
      "outputs": [
        {
          "output_type": "stream",
          "text": [
            "Found GPU at: /device:GPU:0\n"
          ],
          "name": "stdout"
        }
      ]
    },
    {
      "cell_type": "code",
      "metadata": {
        "colab": {
          "base_uri": "https://localhost:8080/"
        },
        "id": "RYVOF6hujDsu",
        "outputId": "028b6b1f-aee4-4940-da0d-0747bd16fb83"
      },
      "source": [
        "df_busca.plataforma.value_counts()"
      ],
      "execution_count": 5,
      "outputs": [
        {
          "output_type": "execute_result",
          "data": {
            "text/plain": [
              "App - Android    3178331\n",
              "Web - Desktop     754003\n",
              "Smart TV          656103\n",
              "Web - Mobile      504855\n",
              "App - iOS         476255\n",
              "Outros            263442\n",
              "Apple TV          110878\n",
              "Android TV           592\n",
              "Name: plataforma, dtype: int64"
            ]
          },
          "metadata": {
            "tags": []
          },
          "execution_count": 5
        }
      ]
    },
    {
      "cell_type": "code",
      "metadata": {
        "id": "GlTHV8kRjIZu"
      },
      "source": [
        "df_busca_total = df_busca.groupby(\"eventLabel\").sum().reset_index()"
      ],
      "execution_count": 6,
      "outputs": []
    },
    {
      "cell_type": "code",
      "metadata": {
        "colab": {
          "base_uri": "https://localhost:8080/",
          "height": 512
        },
        "id": "iCr23FyjjWhu",
        "outputId": "1b31f869-a5d8-475b-9ba0-0c193eaffac4"
      },
      "source": [
        "df_busca_total.sort_values(by=[\"hitsBusca\",\"eventLabel\"], ascending = False).head(15)"
      ],
      "execution_count": 7,
      "outputs": [
        {
          "output_type": "execute_result",
          "data": {
            "text/html": [
              "<div>\n",
              "<style scoped>\n",
              "    .dataframe tbody tr th:only-of-type {\n",
              "        vertical-align: middle;\n",
              "    }\n",
              "\n",
              "    .dataframe tbody tr th {\n",
              "        vertical-align: top;\n",
              "    }\n",
              "\n",
              "    .dataframe thead th {\n",
              "        text-align: right;\n",
              "    }\n",
              "</style>\n",
              "<table border=\"1\" class=\"dataframe\">\n",
              "  <thead>\n",
              "    <tr style=\"text-align: right;\">\n",
              "      <th></th>\n",
              "      <th>eventLabel</th>\n",
              "      <th>distinctUsers</th>\n",
              "      <th>countUsers</th>\n",
              "      <th>hitsBusca</th>\n",
              "    </tr>\n",
              "  </thead>\n",
              "  <tbody>\n",
              "    <tr>\n",
              "      <th>2126510</th>\n",
              "      <td>imperio</td>\n",
              "      <td>227460</td>\n",
              "      <td>611863</td>\n",
              "      <td>615113</td>\n",
              "    </tr>\n",
              "    <tr>\n",
              "      <th>3899025</th>\n",
              "      <td>salve_se_quem_puder</td>\n",
              "      <td>183850</td>\n",
              "      <td>519692</td>\n",
              "      <td>519933</td>\n",
              "    </tr>\n",
              "    <tr>\n",
              "      <th>3878739</th>\n",
              "      <td>salve</td>\n",
              "      <td>125869</td>\n",
              "      <td>296053</td>\n",
              "      <td>300967</td>\n",
              "    </tr>\n",
              "    <tr>\n",
              "      <th>2960631</th>\n",
              "      <td>no_limite</td>\n",
              "      <td>176590</td>\n",
              "      <td>292520</td>\n",
              "      <td>293848</td>\n",
              "    </tr>\n",
              "    <tr>\n",
              "      <th>246814</th>\n",
              "      <td>a_vida_da_gente</td>\n",
              "      <td>74113</td>\n",
              "      <td>240755</td>\n",
              "      <td>242181</td>\n",
              "    </tr>\n",
              "    <tr>\n",
              "      <th>2620731</th>\n",
              "      <td>malhacao</td>\n",
              "      <td>61851</td>\n",
              "      <td>202263</td>\n",
              "      <td>203225</td>\n",
              "    </tr>\n",
              "    <tr>\n",
              "      <th>965774</th>\n",
              "      <td>chicago</td>\n",
              "      <td>63549</td>\n",
              "      <td>187260</td>\n",
              "      <td>189057</td>\n",
              "    </tr>\n",
              "    <tr>\n",
              "      <th>242282</th>\n",
              "      <td>a_vida</td>\n",
              "      <td>70546</td>\n",
              "      <td>173906</td>\n",
              "      <td>175627</td>\n",
              "    </tr>\n",
              "    <tr>\n",
              "      <th>1938859</th>\n",
              "      <td>globo</td>\n",
              "      <td>78648</td>\n",
              "      <td>169110</td>\n",
              "      <td>171875</td>\n",
              "    </tr>\n",
              "    <tr>\n",
              "      <th>244651</th>\n",
              "      <td>a_vida_da</td>\n",
              "      <td>55992</td>\n",
              "      <td>139082</td>\n",
              "      <td>140348</td>\n",
              "    </tr>\n",
              "    <tr>\n",
              "      <th>2619811</th>\n",
              "      <td>malha</td>\n",
              "      <td>57073</td>\n",
              "      <td>136894</td>\n",
              "      <td>138599</td>\n",
              "    </tr>\n",
              "    <tr>\n",
              "      <th>2308588</th>\n",
              "      <td>jornal</td>\n",
              "      <td>59557</td>\n",
              "      <td>130699</td>\n",
              "      <td>131666</td>\n",
              "    </tr>\n",
              "    <tr>\n",
              "      <th>3003495</th>\n",
              "      <td>novela</td>\n",
              "      <td>66330</td>\n",
              "      <td>127906</td>\n",
              "      <td>128957</td>\n",
              "    </tr>\n",
              "    <tr>\n",
              "      <th>2726611</th>\n",
              "      <td>mestre</td>\n",
              "      <td>59461</td>\n",
              "      <td>124482</td>\n",
              "      <td>126291</td>\n",
              "    </tr>\n",
              "    <tr>\n",
              "      <th>2866093</th>\n",
              "      <td>mulheres</td>\n",
              "      <td>38070</td>\n",
              "      <td>120422</td>\n",
              "      <td>122256</td>\n",
              "    </tr>\n",
              "  </tbody>\n",
              "</table>\n",
              "</div>"
            ],
            "text/plain": [
              "                  eventLabel  distinctUsers  countUsers  hitsBusca\n",
              "2126510              imperio         227460      611863     615113\n",
              "3899025  salve_se_quem_puder         183850      519692     519933\n",
              "3878739                salve         125869      296053     300967\n",
              "2960631            no_limite         176590      292520     293848\n",
              "246814       a_vida_da_gente          74113      240755     242181\n",
              "2620731             malhacao          61851      202263     203225\n",
              "965774               chicago          63549      187260     189057\n",
              "242282                a_vida          70546      173906     175627\n",
              "1938859                globo          78648      169110     171875\n",
              "244651             a_vida_da          55992      139082     140348\n",
              "2619811                malha          57073      136894     138599\n",
              "2308588               jornal          59557      130699     131666\n",
              "3003495               novela          66330      127906     128957\n",
              "2726611               mestre          59461      124482     126291\n",
              "2866093             mulheres          38070      120422     122256"
            ]
          },
          "metadata": {
            "tags": []
          },
          "execution_count": 7
        }
      ]
    },
    {
      "cell_type": "code",
      "metadata": {
        "id": "ESv6JOGqj-a0"
      },
      "source": [
        "df_busca_total[\"rep\"] = (df_busca_total[\"hitsBusca\"]/df_busca.shape[0])"
      ],
      "execution_count": 8,
      "outputs": []
    },
    {
      "cell_type": "code",
      "metadata": {
        "colab": {
          "base_uri": "https://localhost:8080/",
          "height": 667
        },
        "id": "Ny4hI9J64JbQ",
        "outputId": "4524f0c9-2e39-4e74-e18a-ad69934e4163"
      },
      "source": [
        "df_busca_total.sort_values(by=[\"hitsBusca\",\"eventLabel\"], ascending = False).head(20)"
      ],
      "execution_count": 9,
      "outputs": [
        {
          "output_type": "execute_result",
          "data": {
            "text/html": [
              "<div>\n",
              "<style scoped>\n",
              "    .dataframe tbody tr th:only-of-type {\n",
              "        vertical-align: middle;\n",
              "    }\n",
              "\n",
              "    .dataframe tbody tr th {\n",
              "        vertical-align: top;\n",
              "    }\n",
              "\n",
              "    .dataframe thead th {\n",
              "        text-align: right;\n",
              "    }\n",
              "</style>\n",
              "<table border=\"1\" class=\"dataframe\">\n",
              "  <thead>\n",
              "    <tr style=\"text-align: right;\">\n",
              "      <th></th>\n",
              "      <th>eventLabel</th>\n",
              "      <th>distinctUsers</th>\n",
              "      <th>countUsers</th>\n",
              "      <th>hitsBusca</th>\n",
              "      <th>rep</th>\n",
              "    </tr>\n",
              "  </thead>\n",
              "  <tbody>\n",
              "    <tr>\n",
              "      <th>2126510</th>\n",
              "      <td>imperio</td>\n",
              "      <td>227460</td>\n",
              "      <td>611863</td>\n",
              "      <td>615113</td>\n",
              "      <td>0.103477</td>\n",
              "    </tr>\n",
              "    <tr>\n",
              "      <th>3899025</th>\n",
              "      <td>salve_se_quem_puder</td>\n",
              "      <td>183850</td>\n",
              "      <td>519692</td>\n",
              "      <td>519933</td>\n",
              "      <td>0.087465</td>\n",
              "    </tr>\n",
              "    <tr>\n",
              "      <th>3878739</th>\n",
              "      <td>salve</td>\n",
              "      <td>125869</td>\n",
              "      <td>296053</td>\n",
              "      <td>300967</td>\n",
              "      <td>0.050630</td>\n",
              "    </tr>\n",
              "    <tr>\n",
              "      <th>2960631</th>\n",
              "      <td>no_limite</td>\n",
              "      <td>176590</td>\n",
              "      <td>292520</td>\n",
              "      <td>293848</td>\n",
              "      <td>0.049432</td>\n",
              "    </tr>\n",
              "    <tr>\n",
              "      <th>246814</th>\n",
              "      <td>a_vida_da_gente</td>\n",
              "      <td>74113</td>\n",
              "      <td>240755</td>\n",
              "      <td>242181</td>\n",
              "      <td>0.040741</td>\n",
              "    </tr>\n",
              "    <tr>\n",
              "      <th>2620731</th>\n",
              "      <td>malhacao</td>\n",
              "      <td>61851</td>\n",
              "      <td>202263</td>\n",
              "      <td>203225</td>\n",
              "      <td>0.034187</td>\n",
              "    </tr>\n",
              "    <tr>\n",
              "      <th>965774</th>\n",
              "      <td>chicago</td>\n",
              "      <td>63549</td>\n",
              "      <td>187260</td>\n",
              "      <td>189057</td>\n",
              "      <td>0.031804</td>\n",
              "    </tr>\n",
              "    <tr>\n",
              "      <th>242282</th>\n",
              "      <td>a_vida</td>\n",
              "      <td>70546</td>\n",
              "      <td>173906</td>\n",
              "      <td>175627</td>\n",
              "      <td>0.029545</td>\n",
              "    </tr>\n",
              "    <tr>\n",
              "      <th>1938859</th>\n",
              "      <td>globo</td>\n",
              "      <td>78648</td>\n",
              "      <td>169110</td>\n",
              "      <td>171875</td>\n",
              "      <td>0.028913</td>\n",
              "    </tr>\n",
              "    <tr>\n",
              "      <th>244651</th>\n",
              "      <td>a_vida_da</td>\n",
              "      <td>55992</td>\n",
              "      <td>139082</td>\n",
              "      <td>140348</td>\n",
              "      <td>0.023610</td>\n",
              "    </tr>\n",
              "    <tr>\n",
              "      <th>2619811</th>\n",
              "      <td>malha</td>\n",
              "      <td>57073</td>\n",
              "      <td>136894</td>\n",
              "      <td>138599</td>\n",
              "      <td>0.023316</td>\n",
              "    </tr>\n",
              "    <tr>\n",
              "      <th>2308588</th>\n",
              "      <td>jornal</td>\n",
              "      <td>59557</td>\n",
              "      <td>130699</td>\n",
              "      <td>131666</td>\n",
              "      <td>0.022149</td>\n",
              "    </tr>\n",
              "    <tr>\n",
              "      <th>3003495</th>\n",
              "      <td>novela</td>\n",
              "      <td>66330</td>\n",
              "      <td>127906</td>\n",
              "      <td>128957</td>\n",
              "      <td>0.021694</td>\n",
              "    </tr>\n",
              "    <tr>\n",
              "      <th>2726611</th>\n",
              "      <td>mestre</td>\n",
              "      <td>59461</td>\n",
              "      <td>124482</td>\n",
              "      <td>126291</td>\n",
              "      <td>0.021245</td>\n",
              "    </tr>\n",
              "    <tr>\n",
              "      <th>2866093</th>\n",
              "      <td>mulheres</td>\n",
              "      <td>38070</td>\n",
              "      <td>120422</td>\n",
              "      <td>122256</td>\n",
              "      <td>0.020566</td>\n",
              "    </tr>\n",
              "    <tr>\n",
              "      <th>964515</th>\n",
              "      <td>chica</td>\n",
              "      <td>51384</td>\n",
              "      <td>109462</td>\n",
              "      <td>111556</td>\n",
              "      <td>0.018766</td>\n",
              "    </tr>\n",
              "    <tr>\n",
              "      <th>1651174</th>\n",
              "      <td>filme</td>\n",
              "      <td>63347</td>\n",
              "      <td>107477</td>\n",
              "      <td>108711</td>\n",
              "      <td>0.018288</td>\n",
              "    </tr>\n",
              "    <tr>\n",
              "      <th>4270073</th>\n",
              "      <td>the_big</td>\n",
              "      <td>39934</td>\n",
              "      <td>100063</td>\n",
              "      <td>101154</td>\n",
              "      <td>0.017017</td>\n",
              "    </tr>\n",
              "    <tr>\n",
              "      <th>4284809</th>\n",
              "      <td>the_good</td>\n",
              "      <td>49362</td>\n",
              "      <td>99455</td>\n",
              "      <td>100452</td>\n",
              "      <td>0.016898</td>\n",
              "    </tr>\n",
              "    <tr>\n",
              "      <th>1763904</th>\n",
              "      <td>filmes</td>\n",
              "      <td>57477</td>\n",
              "      <td>99155</td>\n",
              "      <td>100265</td>\n",
              "      <td>0.016867</td>\n",
              "    </tr>\n",
              "  </tbody>\n",
              "</table>\n",
              "</div>"
            ],
            "text/plain": [
              "                  eventLabel  distinctUsers  countUsers  hitsBusca       rep\n",
              "2126510              imperio         227460      611863     615113  0.103477\n",
              "3899025  salve_se_quem_puder         183850      519692     519933  0.087465\n",
              "3878739                salve         125869      296053     300967  0.050630\n",
              "2960631            no_limite         176590      292520     293848  0.049432\n",
              "246814       a_vida_da_gente          74113      240755     242181  0.040741\n",
              "2620731             malhacao          61851      202263     203225  0.034187\n",
              "965774               chicago          63549      187260     189057  0.031804\n",
              "242282                a_vida          70546      173906     175627  0.029545\n",
              "1938859                globo          78648      169110     171875  0.028913\n",
              "244651             a_vida_da          55992      139082     140348  0.023610\n",
              "2619811                malha          57073      136894     138599  0.023316\n",
              "2308588               jornal          59557      130699     131666  0.022149\n",
              "3003495               novela          66330      127906     128957  0.021694\n",
              "2726611               mestre          59461      124482     126291  0.021245\n",
              "2866093             mulheres          38070      120422     122256  0.020566\n",
              "964515                 chica          51384      109462     111556  0.018766\n",
              "1651174                filme          63347      107477     108711  0.018288\n",
              "4270073              the_big          39934      100063     101154  0.017017\n",
              "4284809             the_good          49362       99455     100452  0.016898\n",
              "1763904               filmes          57477       99155     100265  0.016867"
            ]
          },
          "metadata": {
            "tags": []
          },
          "execution_count": 9
        }
      ]
    },
    {
      "cell_type": "code",
      "metadata": {
        "id": "VD8WQPg4d-dE"
      },
      "source": [
        "df_table = df_busca_total.sort_values(by=[\"hitsBusca\",\"eventLabel\"], ascending = False).head(50)"
      ],
      "execution_count": 10,
      "outputs": []
    },
    {
      "cell_type": "code",
      "metadata": {
        "colab": {
          "base_uri": "https://localhost:8080/",
          "height": 542
        },
        "id": "aNIQNqWQd5-q",
        "outputId": "83d26edd-1db3-49d6-b75e-27c49cf28f76"
      },
      "source": [
        "import plotly.graph_objects as go\n",
        "import pandas as pd\n",
        "\n",
        "#df = pd.read_csv('https://raw.githubusercontent.com/plotly/datasets/master/2014_usa_states.csv')\n",
        "\n",
        "fig = go.Figure(data=[go.Table(\n",
        "    header=dict(values=list([\"eventLabel\",\"hitsBusca\",\"Representatividade\"]),\n",
        "                fill_color='darkcyan',\n",
        "                font=dict(color='white', size=20),\n",
        "                align='left'),\n",
        "    cells=dict(values=[df_table.eventLabel,df_table.hitsBusca,df_table.rep*100],\n",
        "               fill_color='lavender',\n",
        "               align='left'))\n",
        "])\n",
        "\n",
        "fig.show()"
      ],
      "execution_count": 11,
      "outputs": [
        {
          "output_type": "display_data",
          "data": {
            "text/html": [
              "<html>\n",
              "<head><meta charset=\"utf-8\" /></head>\n",
              "<body>\n",
              "    <div>\n",
              "            <script src=\"https://cdnjs.cloudflare.com/ajax/libs/mathjax/2.7.5/MathJax.js?config=TeX-AMS-MML_SVG\"></script><script type=\"text/javascript\">if (window.MathJax) {MathJax.Hub.Config({SVG: {font: \"STIX-Web\"}});}</script>\n",
              "                <script type=\"text/javascript\">window.PlotlyConfig = {MathJaxConfig: 'local'};</script>\n",
              "        <script src=\"https://cdn.plot.ly/plotly-latest.min.js\"></script>    \n",
              "            <div id=\"65f02370-0102-4fef-87ff-e45e9ab262ef\" class=\"plotly-graph-div\" style=\"height:525px; width:100%;\"></div>\n",
              "            <script type=\"text/javascript\">\n",
              "                \n",
              "                    window.PLOTLYENV=window.PLOTLYENV || {};\n",
              "                    \n",
              "                if (document.getElementById(\"65f02370-0102-4fef-87ff-e45e9ab262ef\")) {\n",
              "                    Plotly.newPlot(\n",
              "                        '65f02370-0102-4fef-87ff-e45e9ab262ef',\n",
              "                        [{\"cells\": {\"align\": \"left\", \"fill\": {\"color\": \"lavender\"}, \"values\": [[\"imperio\", \"salve_se_quem_puder\", \"salve\", \"no_limite\", \"a_vida_da_gente\", \"malhacao\", \"chicago\", \"a_vida\", \"globo\", \"a_vida_da\", \"malha\", \"jornal\", \"novela\", \"mestre\", \"mulheres\", \"chica\", \"filme\", \"the_big\", \"the_good\", \"filmes\", \"fantastico\", \"minha\", \"a_vi\", \"salv\", \"caso\", \"minha_mae\", \"malh\", \"the_goo\", \"novelas\", \"nove\", \"no_li\", \"verdades\", \"onde\", \"a_viagem\", \"mira\", \"titi\", \"no_limi\", \"amor\", \"tititi\", \"imper\", \"a_vida_da_ge\", \"grey\", \"power\", \"sessao\", \"mais_voce\", \"chicag\", \"mais\", \"chic\", \"todo\", \"casa\"], [615113, 519933, 300967, 293848, 242181, 203225, 189057, 175627, 171875, 140348, 138599, 131666, 128957, 126291, 122256, 111556, 108711, 101154, 100452, 100265, 99704, 97875, 94234, 92406, 89956, 86189, 85965, 84607, 80423, 80128, 75998, 75334, 74822, 73946, 73842, 72548, 70494, 69735, 68250, 67284, 65488, 62584, 61456, 60638, 60558, 59267, 58580, 58389, 58295, 55902], [10.347669989817408, 8.746515031897772, 5.062983864469416, 4.943225279205391, 4.074062921453407, 3.4187299466612524, 3.1803903433432716, 2.954465662897162, 2.8913480604374593, 2.360988611411064, 2.3315662535480524, 2.214936632585068, 2.169364781555395, 2.1245162932404784, 2.0566379547743536, 1.876638395520938, 1.8287786996259876, 1.7016519081046737, 1.6898425912265522, 1.6866968045367963, 1.6772594444675284, 1.646491295507295, 1.585240978194988, 1.5544896516234699, 1.5132747992710522, 1.4499048609806209, 1.4461366459083997, 1.4232918420330598, 1.3529069676483596, 1.3479443629773542, 1.2784678975832788, 1.267297831476338, 1.2586847684541185, 1.2439483559395397, 1.2421988275131512, 1.2204306565155887, 1.185877470094419, 1.1731092770595273, 1.1481280298173475, 1.1318776023183943, 1.1016645921857648, 1.0528123753566137, 1.0338367208857862, 1.0200760069166934, 1.0187302158194715, 0.9970125119880549, 0.9854555309406626, 0.9822424546960455, 0.9806611501568099, 0.9404051739611629]]}, \"header\": {\"align\": \"left\", \"fill\": {\"color\": \"darkcyan\"}, \"font\": {\"color\": \"white\", \"size\": 20}, \"values\": [\"eventLabel\", \"hitsBusca\", \"Representatividade\"]}, \"type\": \"table\"}],\n",
              "                        {\"template\": {\"data\": {\"bar\": [{\"error_x\": {\"color\": \"#2a3f5f\"}, \"error_y\": {\"color\": \"#2a3f5f\"}, \"marker\": {\"line\": {\"color\": \"#E5ECF6\", \"width\": 0.5}}, \"type\": \"bar\"}], \"barpolar\": [{\"marker\": {\"line\": {\"color\": \"#E5ECF6\", \"width\": 0.5}}, \"type\": \"barpolar\"}], \"carpet\": [{\"aaxis\": {\"endlinecolor\": \"#2a3f5f\", \"gridcolor\": \"white\", \"linecolor\": \"white\", \"minorgridcolor\": \"white\", \"startlinecolor\": \"#2a3f5f\"}, \"baxis\": {\"endlinecolor\": \"#2a3f5f\", \"gridcolor\": \"white\", \"linecolor\": \"white\", \"minorgridcolor\": \"white\", \"startlinecolor\": \"#2a3f5f\"}, \"type\": \"carpet\"}], \"choropleth\": [{\"colorbar\": {\"outlinewidth\": 0, \"ticks\": \"\"}, \"type\": \"choropleth\"}], \"contour\": [{\"colorbar\": {\"outlinewidth\": 0, \"ticks\": \"\"}, \"colorscale\": [[0.0, \"#0d0887\"], [0.1111111111111111, \"#46039f\"], [0.2222222222222222, \"#7201a8\"], [0.3333333333333333, \"#9c179e\"], [0.4444444444444444, \"#bd3786\"], [0.5555555555555556, \"#d8576b\"], [0.6666666666666666, \"#ed7953\"], [0.7777777777777778, \"#fb9f3a\"], [0.8888888888888888, \"#fdca26\"], [1.0, \"#f0f921\"]], \"type\": \"contour\"}], \"contourcarpet\": [{\"colorbar\": {\"outlinewidth\": 0, \"ticks\": \"\"}, \"type\": \"contourcarpet\"}], \"heatmap\": [{\"colorbar\": {\"outlinewidth\": 0, \"ticks\": \"\"}, \"colorscale\": [[0.0, \"#0d0887\"], [0.1111111111111111, \"#46039f\"], [0.2222222222222222, \"#7201a8\"], [0.3333333333333333, \"#9c179e\"], [0.4444444444444444, \"#bd3786\"], [0.5555555555555556, \"#d8576b\"], [0.6666666666666666, \"#ed7953\"], [0.7777777777777778, \"#fb9f3a\"], [0.8888888888888888, \"#fdca26\"], [1.0, \"#f0f921\"]], \"type\": \"heatmap\"}], \"heatmapgl\": [{\"colorbar\": {\"outlinewidth\": 0, \"ticks\": \"\"}, \"colorscale\": [[0.0, \"#0d0887\"], [0.1111111111111111, \"#46039f\"], [0.2222222222222222, \"#7201a8\"], [0.3333333333333333, \"#9c179e\"], [0.4444444444444444, \"#bd3786\"], [0.5555555555555556, \"#d8576b\"], [0.6666666666666666, \"#ed7953\"], [0.7777777777777778, \"#fb9f3a\"], [0.8888888888888888, \"#fdca26\"], [1.0, \"#f0f921\"]], \"type\": \"heatmapgl\"}], \"histogram\": [{\"marker\": {\"colorbar\": {\"outlinewidth\": 0, \"ticks\": \"\"}}, \"type\": \"histogram\"}], \"histogram2d\": [{\"colorbar\": {\"outlinewidth\": 0, \"ticks\": \"\"}, \"colorscale\": [[0.0, \"#0d0887\"], [0.1111111111111111, \"#46039f\"], [0.2222222222222222, \"#7201a8\"], [0.3333333333333333, \"#9c179e\"], [0.4444444444444444, \"#bd3786\"], [0.5555555555555556, \"#d8576b\"], [0.6666666666666666, \"#ed7953\"], [0.7777777777777778, \"#fb9f3a\"], [0.8888888888888888, \"#fdca26\"], [1.0, \"#f0f921\"]], \"type\": \"histogram2d\"}], \"histogram2dcontour\": [{\"colorbar\": {\"outlinewidth\": 0, \"ticks\": \"\"}, \"colorscale\": [[0.0, \"#0d0887\"], [0.1111111111111111, \"#46039f\"], [0.2222222222222222, \"#7201a8\"], [0.3333333333333333, \"#9c179e\"], [0.4444444444444444, \"#bd3786\"], [0.5555555555555556, \"#d8576b\"], [0.6666666666666666, \"#ed7953\"], [0.7777777777777778, \"#fb9f3a\"], [0.8888888888888888, \"#fdca26\"], [1.0, \"#f0f921\"]], \"type\": \"histogram2dcontour\"}], \"mesh3d\": [{\"colorbar\": {\"outlinewidth\": 0, \"ticks\": \"\"}, \"type\": \"mesh3d\"}], \"parcoords\": [{\"line\": {\"colorbar\": {\"outlinewidth\": 0, \"ticks\": \"\"}}, \"type\": \"parcoords\"}], \"pie\": [{\"automargin\": true, \"type\": \"pie\"}], \"scatter\": [{\"marker\": {\"colorbar\": {\"outlinewidth\": 0, \"ticks\": \"\"}}, \"type\": \"scatter\"}], \"scatter3d\": [{\"line\": {\"colorbar\": {\"outlinewidth\": 0, \"ticks\": \"\"}}, \"marker\": {\"colorbar\": {\"outlinewidth\": 0, \"ticks\": \"\"}}, \"type\": \"scatter3d\"}], \"scattercarpet\": [{\"marker\": {\"colorbar\": {\"outlinewidth\": 0, \"ticks\": \"\"}}, \"type\": \"scattercarpet\"}], \"scattergeo\": [{\"marker\": {\"colorbar\": {\"outlinewidth\": 0, \"ticks\": \"\"}}, \"type\": \"scattergeo\"}], \"scattergl\": [{\"marker\": {\"colorbar\": {\"outlinewidth\": 0, \"ticks\": \"\"}}, \"type\": \"scattergl\"}], \"scattermapbox\": [{\"marker\": {\"colorbar\": {\"outlinewidth\": 0, \"ticks\": \"\"}}, \"type\": \"scattermapbox\"}], \"scatterpolar\": [{\"marker\": {\"colorbar\": {\"outlinewidth\": 0, \"ticks\": \"\"}}, \"type\": \"scatterpolar\"}], \"scatterpolargl\": [{\"marker\": {\"colorbar\": {\"outlinewidth\": 0, \"ticks\": \"\"}}, \"type\": \"scatterpolargl\"}], \"scatterternary\": [{\"marker\": {\"colorbar\": {\"outlinewidth\": 0, \"ticks\": \"\"}}, \"type\": \"scatterternary\"}], \"surface\": [{\"colorbar\": {\"outlinewidth\": 0, \"ticks\": \"\"}, \"colorscale\": [[0.0, \"#0d0887\"], [0.1111111111111111, \"#46039f\"], [0.2222222222222222, \"#7201a8\"], [0.3333333333333333, \"#9c179e\"], [0.4444444444444444, \"#bd3786\"], [0.5555555555555556, \"#d8576b\"], [0.6666666666666666, \"#ed7953\"], [0.7777777777777778, \"#fb9f3a\"], [0.8888888888888888, \"#fdca26\"], [1.0, \"#f0f921\"]], \"type\": \"surface\"}], \"table\": [{\"cells\": {\"fill\": {\"color\": \"#EBF0F8\"}, \"line\": {\"color\": \"white\"}}, \"header\": {\"fill\": {\"color\": \"#C8D4E3\"}, \"line\": {\"color\": \"white\"}}, \"type\": \"table\"}]}, \"layout\": {\"annotationdefaults\": {\"arrowcolor\": \"#2a3f5f\", \"arrowhead\": 0, \"arrowwidth\": 1}, \"coloraxis\": {\"colorbar\": {\"outlinewidth\": 0, \"ticks\": \"\"}}, \"colorscale\": {\"diverging\": [[0, \"#8e0152\"], [0.1, \"#c51b7d\"], [0.2, \"#de77ae\"], [0.3, \"#f1b6da\"], [0.4, \"#fde0ef\"], [0.5, \"#f7f7f7\"], [0.6, \"#e6f5d0\"], [0.7, \"#b8e186\"], [0.8, \"#7fbc41\"], [0.9, \"#4d9221\"], [1, \"#276419\"]], \"sequential\": [[0.0, \"#0d0887\"], [0.1111111111111111, \"#46039f\"], [0.2222222222222222, \"#7201a8\"], [0.3333333333333333, \"#9c179e\"], [0.4444444444444444, \"#bd3786\"], [0.5555555555555556, \"#d8576b\"], [0.6666666666666666, \"#ed7953\"], [0.7777777777777778, \"#fb9f3a\"], [0.8888888888888888, \"#fdca26\"], [1.0, \"#f0f921\"]], \"sequentialminus\": [[0.0, \"#0d0887\"], [0.1111111111111111, \"#46039f\"], [0.2222222222222222, \"#7201a8\"], [0.3333333333333333, \"#9c179e\"], [0.4444444444444444, \"#bd3786\"], [0.5555555555555556, \"#d8576b\"], [0.6666666666666666, \"#ed7953\"], [0.7777777777777778, \"#fb9f3a\"], [0.8888888888888888, \"#fdca26\"], [1.0, \"#f0f921\"]]}, \"colorway\": [\"#636efa\", \"#EF553B\", \"#00cc96\", \"#ab63fa\", \"#FFA15A\", \"#19d3f3\", \"#FF6692\", \"#B6E880\", \"#FF97FF\", \"#FECB52\"], \"font\": {\"color\": \"#2a3f5f\"}, \"geo\": {\"bgcolor\": \"white\", \"lakecolor\": \"white\", \"landcolor\": \"#E5ECF6\", \"showlakes\": true, \"showland\": true, \"subunitcolor\": \"white\"}, \"hoverlabel\": {\"align\": \"left\"}, \"hovermode\": \"closest\", \"mapbox\": {\"style\": \"light\"}, \"paper_bgcolor\": \"white\", \"plot_bgcolor\": \"#E5ECF6\", \"polar\": {\"angularaxis\": {\"gridcolor\": \"white\", \"linecolor\": \"white\", \"ticks\": \"\"}, \"bgcolor\": \"#E5ECF6\", \"radialaxis\": {\"gridcolor\": \"white\", \"linecolor\": \"white\", \"ticks\": \"\"}}, \"scene\": {\"xaxis\": {\"backgroundcolor\": \"#E5ECF6\", \"gridcolor\": \"white\", \"gridwidth\": 2, \"linecolor\": \"white\", \"showbackground\": true, \"ticks\": \"\", \"zerolinecolor\": \"white\"}, \"yaxis\": {\"backgroundcolor\": \"#E5ECF6\", \"gridcolor\": \"white\", \"gridwidth\": 2, \"linecolor\": \"white\", \"showbackground\": true, \"ticks\": \"\", \"zerolinecolor\": \"white\"}, \"zaxis\": {\"backgroundcolor\": \"#E5ECF6\", \"gridcolor\": \"white\", \"gridwidth\": 2, \"linecolor\": \"white\", \"showbackground\": true, \"ticks\": \"\", \"zerolinecolor\": \"white\"}}, \"shapedefaults\": {\"line\": {\"color\": \"#2a3f5f\"}}, \"ternary\": {\"aaxis\": {\"gridcolor\": \"white\", \"linecolor\": \"white\", \"ticks\": \"\"}, \"baxis\": {\"gridcolor\": \"white\", \"linecolor\": \"white\", \"ticks\": \"\"}, \"bgcolor\": \"#E5ECF6\", \"caxis\": {\"gridcolor\": \"white\", \"linecolor\": \"white\", \"ticks\": \"\"}}, \"title\": {\"x\": 0.05}, \"xaxis\": {\"automargin\": true, \"gridcolor\": \"white\", \"linecolor\": \"white\", \"ticks\": \"\", \"title\": {\"standoff\": 15}, \"zerolinecolor\": \"white\", \"zerolinewidth\": 2}, \"yaxis\": {\"automargin\": true, \"gridcolor\": \"white\", \"linecolor\": \"white\", \"ticks\": \"\", \"title\": {\"standoff\": 15}, \"zerolinecolor\": \"white\", \"zerolinewidth\": 2}}}},\n",
              "                        {\"responsive\": true}\n",
              "                    ).then(function(){\n",
              "                            \n",
              "var gd = document.getElementById('65f02370-0102-4fef-87ff-e45e9ab262ef');\n",
              "var x = new MutationObserver(function (mutations, observer) {{\n",
              "        var display = window.getComputedStyle(gd).display;\n",
              "        if (!display || display === 'none') {{\n",
              "            console.log([gd, 'removed!']);\n",
              "            Plotly.purge(gd);\n",
              "            observer.disconnect();\n",
              "        }}\n",
              "}});\n",
              "\n",
              "// Listen for the removal of the full notebook cells\n",
              "var notebookContainer = gd.closest('#notebook-container');\n",
              "if (notebookContainer) {{\n",
              "    x.observe(notebookContainer, {childList: true});\n",
              "}}\n",
              "\n",
              "// Listen for the clearing of the current output cell\n",
              "var outputEl = gd.closest('.output');\n",
              "if (outputEl) {{\n",
              "    x.observe(outputEl, {childList: true});\n",
              "}}\n",
              "\n",
              "                        })\n",
              "                };\n",
              "                \n",
              "            </script>\n",
              "        </div>\n",
              "</body>\n",
              "</html>"
            ]
          },
          "metadata": {
            "tags": []
          }
        }
      ]
    },
    {
      "cell_type": "code",
      "metadata": {
        "id": "WefXeS8UgOJb",
        "colab": {
          "base_uri": "https://localhost:8080/",
          "height": 204
        },
        "outputId": "049f7b86-e864-4694-843b-ee9ab0731f38"
      },
      "source": [
        "df_busca_total[df_busca_total.eventLabel.str.contains('film')].sort_values(by=[\"hitsBusca\",\"eventLabel\"], ascending = False).head(5)"
      ],
      "execution_count": 12,
      "outputs": [
        {
          "output_type": "execute_result",
          "data": {
            "text/html": [
              "<div>\n",
              "<style scoped>\n",
              "    .dataframe tbody tr th:only-of-type {\n",
              "        vertical-align: middle;\n",
              "    }\n",
              "\n",
              "    .dataframe tbody tr th {\n",
              "        vertical-align: top;\n",
              "    }\n",
              "\n",
              "    .dataframe thead th {\n",
              "        text-align: right;\n",
              "    }\n",
              "</style>\n",
              "<table border=\"1\" class=\"dataframe\">\n",
              "  <thead>\n",
              "    <tr style=\"text-align: right;\">\n",
              "      <th></th>\n",
              "      <th>eventLabel</th>\n",
              "      <th>distinctUsers</th>\n",
              "      <th>countUsers</th>\n",
              "      <th>hitsBusca</th>\n",
              "      <th>rep</th>\n",
              "    </tr>\n",
              "  </thead>\n",
              "  <tbody>\n",
              "    <tr>\n",
              "      <th>1651174</th>\n",
              "      <td>filme</td>\n",
              "      <td>63347</td>\n",
              "      <td>107477</td>\n",
              "      <td>108711</td>\n",
              "      <td>0.018288</td>\n",
              "    </tr>\n",
              "    <tr>\n",
              "      <th>1763904</th>\n",
              "      <td>filmes</td>\n",
              "      <td>57477</td>\n",
              "      <td>99155</td>\n",
              "      <td>100265</td>\n",
              "      <td>0.016867</td>\n",
              "    </tr>\n",
              "    <tr>\n",
              "      <th>1649249</th>\n",
              "      <td>film</td>\n",
              "      <td>43906</td>\n",
              "      <td>53603</td>\n",
              "      <td>54660</td>\n",
              "      <td>0.009195</td>\n",
              "    </tr>\n",
              "    <tr>\n",
              "      <th>1685283</th>\n",
              "      <td>filme_de</td>\n",
              "      <td>8667</td>\n",
              "      <td>13416</td>\n",
              "      <td>13584</td>\n",
              "      <td>0.002285</td>\n",
              "    </tr>\n",
              "    <tr>\n",
              "      <th>1775602</th>\n",
              "      <td>filmes_de</td>\n",
              "      <td>6808</td>\n",
              "      <td>10641</td>\n",
              "      <td>10763</td>\n",
              "      <td>0.001811</td>\n",
              "    </tr>\n",
              "  </tbody>\n",
              "</table>\n",
              "</div>"
            ],
            "text/plain": [
              "        eventLabel  distinctUsers  countUsers  hitsBusca       rep\n",
              "1651174      filme          63347      107477     108711  0.018288\n",
              "1763904     filmes          57477       99155     100265  0.016867\n",
              "1649249       film          43906       53603      54660  0.009195\n",
              "1685283   filme_de           8667       13416      13584  0.002285\n",
              "1775602  filmes_de           6808       10641      10763  0.001811"
            ]
          },
          "metadata": {
            "tags": []
          },
          "execution_count": 12
        }
      ]
    },
    {
      "cell_type": "code",
      "metadata": {
        "id": "_PuzNAMugjH9",
        "colab": {
          "base_uri": "https://localhost:8080/",
          "height": 204
        },
        "outputId": "d2830c2b-70dd-48aa-8132-8ac4defc88be"
      },
      "source": [
        "df_busca_total[df_busca_total.eventLabel.str.contains('nov')].sort_values(by=[\"hitsBusca\",\"eventLabel\"], ascending = False).head(5)"
      ],
      "execution_count": 13,
      "outputs": [
        {
          "output_type": "execute_result",
          "data": {
            "text/html": [
              "<div>\n",
              "<style scoped>\n",
              "    .dataframe tbody tr th:only-of-type {\n",
              "        vertical-align: middle;\n",
              "    }\n",
              "\n",
              "    .dataframe tbody tr th {\n",
              "        vertical-align: top;\n",
              "    }\n",
              "\n",
              "    .dataframe thead th {\n",
              "        text-align: right;\n",
              "    }\n",
              "</style>\n",
              "<table border=\"1\" class=\"dataframe\">\n",
              "  <thead>\n",
              "    <tr style=\"text-align: right;\">\n",
              "      <th></th>\n",
              "      <th>eventLabel</th>\n",
              "      <th>distinctUsers</th>\n",
              "      <th>countUsers</th>\n",
              "      <th>hitsBusca</th>\n",
              "      <th>rep</th>\n",
              "    </tr>\n",
              "  </thead>\n",
              "  <tbody>\n",
              "    <tr>\n",
              "      <th>3003495</th>\n",
              "      <td>novela</td>\n",
              "      <td>66330</td>\n",
              "      <td>127906</td>\n",
              "      <td>128957</td>\n",
              "      <td>0.021694</td>\n",
              "    </tr>\n",
              "    <tr>\n",
              "      <th>3090633</th>\n",
              "      <td>novelas</td>\n",
              "      <td>48977</td>\n",
              "      <td>79847</td>\n",
              "      <td>80423</td>\n",
              "      <td>0.013529</td>\n",
              "    </tr>\n",
              "    <tr>\n",
              "      <th>3000544</th>\n",
              "      <td>nove</td>\n",
              "      <td>60316</td>\n",
              "      <td>79248</td>\n",
              "      <td>80128</td>\n",
              "      <td>0.013479</td>\n",
              "    </tr>\n",
              "    <tr>\n",
              "      <th>3002873</th>\n",
              "      <td>novel</td>\n",
              "      <td>40947</td>\n",
              "      <td>51355</td>\n",
              "      <td>52119</td>\n",
              "      <td>0.008768</td>\n",
              "    </tr>\n",
              "    <tr>\n",
              "      <th>3010074</th>\n",
              "      <td>novela_a</td>\n",
              "      <td>6669</td>\n",
              "      <td>10599</td>\n",
              "      <td>10663</td>\n",
              "      <td>0.001794</td>\n",
              "    </tr>\n",
              "  </tbody>\n",
              "</table>\n",
              "</div>"
            ],
            "text/plain": [
              "        eventLabel  distinctUsers  countUsers  hitsBusca       rep\n",
              "3003495     novela          66330      127906     128957  0.021694\n",
              "3090633    novelas          48977       79847      80423  0.013529\n",
              "3000544       nove          60316       79248      80128  0.013479\n",
              "3002873      novel          40947       51355      52119  0.008768\n",
              "3010074   novela_a           6669       10599      10663  0.001794"
            ]
          },
          "metadata": {
            "tags": []
          },
          "execution_count": 13
        }
      ]
    },
    {
      "cell_type": "code",
      "metadata": {
        "colab": {
          "base_uri": "https://localhost:8080/",
          "height": 204
        },
        "id": "ZcGbH7k4sgIc",
        "outputId": "e9a81c33-d753-4e78-d838-c71a30e2f658"
      },
      "source": [
        "df_busca_total[df_busca_total.eventLabel.str.contains('docu')].sort_values(by=[\"hitsBusca\",\"eventLabel\"], ascending = False).head(5)"
      ],
      "execution_count": 14,
      "outputs": [
        {
          "output_type": "execute_result",
          "data": {
            "text/html": [
              "<div>\n",
              "<style scoped>\n",
              "    .dataframe tbody tr th:only-of-type {\n",
              "        vertical-align: middle;\n",
              "    }\n",
              "\n",
              "    .dataframe tbody tr th {\n",
              "        vertical-align: top;\n",
              "    }\n",
              "\n",
              "    .dataframe thead th {\n",
              "        text-align: right;\n",
              "    }\n",
              "</style>\n",
              "<table border=\"1\" class=\"dataframe\">\n",
              "  <thead>\n",
              "    <tr style=\"text-align: right;\">\n",
              "      <th></th>\n",
              "      <th>eventLabel</th>\n",
              "      <th>distinctUsers</th>\n",
              "      <th>countUsers</th>\n",
              "      <th>hitsBusca</th>\n",
              "      <th>rep</th>\n",
              "    </tr>\n",
              "  </thead>\n",
              "  <tbody>\n",
              "    <tr>\n",
              "      <th>1307417</th>\n",
              "      <td>documentario</td>\n",
              "      <td>7365</td>\n",
              "      <td>11640</td>\n",
              "      <td>11780</td>\n",
              "      <td>0.001982</td>\n",
              "    </tr>\n",
              "    <tr>\n",
              "      <th>1306267</th>\n",
              "      <td>docu</td>\n",
              "      <td>5983</td>\n",
              "      <td>6738</td>\n",
              "      <td>6880</td>\n",
              "      <td>0.001157</td>\n",
              "    </tr>\n",
              "    <tr>\n",
              "      <th>1306485</th>\n",
              "      <td>docum</td>\n",
              "      <td>4526</td>\n",
              "      <td>5045</td>\n",
              "      <td>5166</td>\n",
              "      <td>0.000869</td>\n",
              "    </tr>\n",
              "    <tr>\n",
              "      <th>1306577</th>\n",
              "      <td>docume</td>\n",
              "      <td>4359</td>\n",
              "      <td>4918</td>\n",
              "      <td>5001</td>\n",
              "      <td>0.000841</td>\n",
              "    </tr>\n",
              "    <tr>\n",
              "      <th>1306825</th>\n",
              "      <td>documen</td>\n",
              "      <td>3840</td>\n",
              "      <td>4208</td>\n",
              "      <td>4287</td>\n",
              "      <td>0.000721</td>\n",
              "    </tr>\n",
              "  </tbody>\n",
              "</table>\n",
              "</div>"
            ],
            "text/plain": [
              "           eventLabel  distinctUsers  countUsers  hitsBusca       rep\n",
              "1307417  documentario           7365       11640      11780  0.001982\n",
              "1306267          docu           5983        6738       6880  0.001157\n",
              "1306485         docum           4526        5045       5166  0.000869\n",
              "1306577        docume           4359        4918       5001  0.000841\n",
              "1306825       documen           3840        4208       4287  0.000721"
            ]
          },
          "metadata": {
            "tags": []
          },
          "execution_count": 14
        }
      ]
    },
    {
      "cell_type": "code",
      "metadata": {
        "colab": {
          "base_uri": "https://localhost:8080/",
          "height": 204
        },
        "id": "moC1IwmFsh1s",
        "outputId": "8e07ad2d-95a3-48cf-de56-a71e132c8275"
      },
      "source": [
        "df_busca_total[df_busca_total.eventLabel.str.contains('serie')].sort_values(by=[\"hitsBusca\",\"eventLabel\"], ascending = False).head(5)"
      ],
      "execution_count": 15,
      "outputs": [
        {
          "output_type": "execute_result",
          "data": {
            "text/html": [
              "<div>\n",
              "<style scoped>\n",
              "    .dataframe tbody tr th:only-of-type {\n",
              "        vertical-align: middle;\n",
              "    }\n",
              "\n",
              "    .dataframe tbody tr th {\n",
              "        vertical-align: top;\n",
              "    }\n",
              "\n",
              "    .dataframe thead th {\n",
              "        text-align: right;\n",
              "    }\n",
              "</style>\n",
              "<table border=\"1\" class=\"dataframe\">\n",
              "  <thead>\n",
              "    <tr style=\"text-align: right;\">\n",
              "      <th></th>\n",
              "      <th>eventLabel</th>\n",
              "      <th>distinctUsers</th>\n",
              "      <th>countUsers</th>\n",
              "      <th>hitsBusca</th>\n",
              "      <th>rep</th>\n",
              "    </tr>\n",
              "  </thead>\n",
              "  <tbody>\n",
              "    <tr>\n",
              "      <th>4011127</th>\n",
              "      <td>serie</td>\n",
              "      <td>28425</td>\n",
              "      <td>48705</td>\n",
              "      <td>49022</td>\n",
              "      <td>0.008247</td>\n",
              "    </tr>\n",
              "    <tr>\n",
              "      <th>4044175</th>\n",
              "      <td>series</td>\n",
              "      <td>22311</td>\n",
              "      <td>37739</td>\n",
              "      <td>37938</td>\n",
              "      <td>0.006382</td>\n",
              "    </tr>\n",
              "    <tr>\n",
              "      <th>4021766</th>\n",
              "      <td>serie_de</td>\n",
              "      <td>1265</td>\n",
              "      <td>1874</td>\n",
              "      <td>1885</td>\n",
              "      <td>0.000317</td>\n",
              "    </tr>\n",
              "    <tr>\n",
              "      <th>4047903</th>\n",
              "      <td>series_de</td>\n",
              "      <td>938</td>\n",
              "      <td>1393</td>\n",
              "      <td>1397</td>\n",
              "      <td>0.000235</td>\n",
              "    </tr>\n",
              "    <tr>\n",
              "      <th>2796332</th>\n",
              "      <td>minisserie</td>\n",
              "      <td>717</td>\n",
              "      <td>1169</td>\n",
              "      <td>1171</td>\n",
              "      <td>0.000197</td>\n",
              "    </tr>\n",
              "  </tbody>\n",
              "</table>\n",
              "</div>"
            ],
            "text/plain": [
              "         eventLabel  distinctUsers  countUsers  hitsBusca       rep\n",
              "4011127       serie          28425       48705      49022  0.008247\n",
              "4044175      series          22311       37739      37938  0.006382\n",
              "4021766    serie_de           1265        1874       1885  0.000317\n",
              "4047903   series_de            938        1393       1397  0.000235\n",
              "2796332  minisserie            717        1169       1171  0.000197"
            ]
          },
          "metadata": {
            "tags": []
          },
          "execution_count": 15
        }
      ]
    },
    {
      "cell_type": "code",
      "metadata": {
        "colab": {
          "base_uri": "https://localhost:8080/",
          "height": 204
        },
        "id": "I89wLv6asjs0",
        "outputId": "b54c1ff2-a4c3-431b-a736-87879a36eae4"
      },
      "source": [
        "df_busca_total[df_busca_total.eventLabel.str.contains('jorn')].sort_values(by=[\"hitsBusca\",\"eventLabel\"], ascending = False).head(5)"
      ],
      "execution_count": 16,
      "outputs": [
        {
          "output_type": "execute_result",
          "data": {
            "text/html": [
              "<div>\n",
              "<style scoped>\n",
              "    .dataframe tbody tr th:only-of-type {\n",
              "        vertical-align: middle;\n",
              "    }\n",
              "\n",
              "    .dataframe tbody tr th {\n",
              "        vertical-align: top;\n",
              "    }\n",
              "\n",
              "    .dataframe thead th {\n",
              "        text-align: right;\n",
              "    }\n",
              "</style>\n",
              "<table border=\"1\" class=\"dataframe\">\n",
              "  <thead>\n",
              "    <tr style=\"text-align: right;\">\n",
              "      <th></th>\n",
              "      <th>eventLabel</th>\n",
              "      <th>distinctUsers</th>\n",
              "      <th>countUsers</th>\n",
              "      <th>hitsBusca</th>\n",
              "      <th>rep</th>\n",
              "    </tr>\n",
              "  </thead>\n",
              "  <tbody>\n",
              "    <tr>\n",
              "      <th>2308588</th>\n",
              "      <td>jornal</td>\n",
              "      <td>59557</td>\n",
              "      <td>130699</td>\n",
              "      <td>131666</td>\n",
              "      <td>0.022149</td>\n",
              "    </tr>\n",
              "    <tr>\n",
              "      <th>2306485</th>\n",
              "      <td>jorna</td>\n",
              "      <td>28570</td>\n",
              "      <td>44702</td>\n",
              "      <td>45276</td>\n",
              "      <td>0.007617</td>\n",
              "    </tr>\n",
              "    <tr>\n",
              "      <th>2306219</th>\n",
              "      <td>jorn</td>\n",
              "      <td>26139</td>\n",
              "      <td>41826</td>\n",
              "      <td>42524</td>\n",
              "      <td>0.007154</td>\n",
              "    </tr>\n",
              "    <tr>\n",
              "      <th>2349494</th>\n",
              "      <td>jornal_nacional</td>\n",
              "      <td>17042</td>\n",
              "      <td>33050</td>\n",
              "      <td>33390</td>\n",
              "      <td>0.005617</td>\n",
              "    </tr>\n",
              "    <tr>\n",
              "      <th>2338774</th>\n",
              "      <td>jornal_hoje</td>\n",
              "      <td>7298</td>\n",
              "      <td>14318</td>\n",
              "      <td>14371</td>\n",
              "      <td>0.002418</td>\n",
              "    </tr>\n",
              "  </tbody>\n",
              "</table>\n",
              "</div>"
            ],
            "text/plain": [
              "              eventLabel  distinctUsers  countUsers  hitsBusca       rep\n",
              "2308588           jornal          59557      130699     131666  0.022149\n",
              "2306485            jorna          28570       44702      45276  0.007617\n",
              "2306219             jorn          26139       41826      42524  0.007154\n",
              "2349494  jornal_nacional          17042       33050      33390  0.005617\n",
              "2338774      jornal_hoje           7298       14318      14371  0.002418"
            ]
          },
          "metadata": {
            "tags": []
          },
          "execution_count": 16
        }
      ]
    },
    {
      "cell_type": "code",
      "metadata": {
        "colab": {
          "base_uri": "https://localhost:8080/",
          "height": 204
        },
        "id": "ALt8QLO4s-DE",
        "outputId": "679a6318-34d0-4053-85e3-6e254a30eb02"
      },
      "source": [
        "df_busca_total[df_busca_total.eventLabel.str.contains('humo')].sort_values(by=[\"hitsBusca\",\"eventLabel\"], ascending = False).head(5)"
      ],
      "execution_count": 17,
      "outputs": [
        {
          "output_type": "execute_result",
          "data": {
            "text/html": [
              "<div>\n",
              "<style scoped>\n",
              "    .dataframe tbody tr th:only-of-type {\n",
              "        vertical-align: middle;\n",
              "    }\n",
              "\n",
              "    .dataframe tbody tr th {\n",
              "        vertical-align: top;\n",
              "    }\n",
              "\n",
              "    .dataframe thead th {\n",
              "        text-align: right;\n",
              "    }\n",
              "</style>\n",
              "<table border=\"1\" class=\"dataframe\">\n",
              "  <thead>\n",
              "    <tr style=\"text-align: right;\">\n",
              "      <th></th>\n",
              "      <th>eventLabel</th>\n",
              "      <th>distinctUsers</th>\n",
              "      <th>countUsers</th>\n",
              "      <th>hitsBusca</th>\n",
              "      <th>rep</th>\n",
              "    </tr>\n",
              "  </thead>\n",
              "  <tbody>\n",
              "    <tr>\n",
              "      <th>2102348</th>\n",
              "      <td>humor</td>\n",
              "      <td>535</td>\n",
              "      <td>808</td>\n",
              "      <td>821</td>\n",
              "      <td>0.000138</td>\n",
              "    </tr>\n",
              "    <tr>\n",
              "      <th>2102333</th>\n",
              "      <td>humo</td>\n",
              "      <td>283</td>\n",
              "      <td>329</td>\n",
              "      <td>336</td>\n",
              "      <td>0.000057</td>\n",
              "    </tr>\n",
              "    <tr>\n",
              "      <th>2102605</th>\n",
              "      <td>humore</td>\n",
              "      <td>36</td>\n",
              "      <td>51</td>\n",
              "      <td>55</td>\n",
              "      <td>0.000009</td>\n",
              "    </tr>\n",
              "    <tr>\n",
              "      <th>2102493</th>\n",
              "      <td>humor_multishow</td>\n",
              "      <td>33</td>\n",
              "      <td>42</td>\n",
              "      <td>42</td>\n",
              "      <td>0.000007</td>\n",
              "    </tr>\n",
              "    <tr>\n",
              "      <th>3542410</th>\n",
              "      <td>premio_multishow_de_humor</td>\n",
              "      <td>13</td>\n",
              "      <td>39</td>\n",
              "      <td>40</td>\n",
              "      <td>0.000007</td>\n",
              "    </tr>\n",
              "  </tbody>\n",
              "</table>\n",
              "</div>"
            ],
            "text/plain": [
              "                        eventLabel  distinctUsers  ...  hitsBusca       rep\n",
              "2102348                      humor            535  ...        821  0.000138\n",
              "2102333                       humo            283  ...        336  0.000057\n",
              "2102605                     humore             36  ...         55  0.000009\n",
              "2102493            humor_multishow             33  ...         42  0.000007\n",
              "3542410  premio_multishow_de_humor             13  ...         40  0.000007\n",
              "\n",
              "[5 rows x 5 columns]"
            ]
          },
          "metadata": {
            "tags": []
          },
          "execution_count": 17
        }
      ]
    },
    {
      "cell_type": "code",
      "metadata": {
        "id": "r90K16Yns_Wc"
      },
      "source": [
        "total = df_busca.shape[0]"
      ],
      "execution_count": 18,
      "outputs": []
    },
    {
      "cell_type": "code",
      "metadata": {
        "id": "ogL2s4y2tKUE"
      },
      "source": [
        "filmes = df_busca_total[df_busca_total.eventLabel.str.contains('film')].sort_values(by=[\"hitsBusca\",\"eventLabel\"], ascending = False).head(5).hitsBusca.sum()\n",
        "novelas = df_busca_total[df_busca_total.eventLabel.str.contains('nove')].sort_values(by=[\"hitsBusca\",\"eventLabel\"], ascending = False).head(5).hitsBusca.sum()\n",
        "documentarios = df_busca_total[df_busca_total.eventLabel.str.contains('docu')].sort_values(by=[\"hitsBusca\",\"eventLabel\"], ascending = False).head(5).hitsBusca.sum()\n",
        "series = df_busca_total[df_busca_total.eventLabel.str.contains('serie')].sort_values(by=[\"hitsBusca\",\"eventLabel\"], ascending = False).head(5).hitsBusca.sum()\n",
        "jornal = df_busca_total[df_busca_total.eventLabel.str.contains('jorn')].sort_values(by=[\"hitsBusca\",\"eventLabel\"], ascending = False).head(5).hitsBusca.sum()\n",
        "humor = df_busca_total[df_busca_total.eventLabel.str.contains('humo')].sort_values(by=[\"hitsBusca\",\"eventLabel\"], ascending = False).head(5).hitsBusca.sum()"
      ],
      "execution_count": 19,
      "outputs": []
    },
    {
      "cell_type": "code",
      "metadata": {
        "id": "lIxOHd5Ivprm"
      },
      "source": [
        "categorias = filmes + novelas + documentarios + series + jornal + humor"
      ],
      "execution_count": 20,
      "outputs": []
    },
    {
      "cell_type": "code",
      "metadata": {
        "colab": {
          "base_uri": "https://localhost:8080/"
        },
        "id": "7_1lH2o3UWQw",
        "outputId": "1b16829b-5ac7-49f8-b82d-4c0f0d516218"
      },
      "source": [
        "categorias"
      ],
      "execution_count": 21,
      "outputs": [
        {
          "output_type": "execute_result",
          "data": {
            "text/plain": [
              "1033321"
            ]
          },
          "metadata": {
            "tags": []
          },
          "execution_count": 21
        }
      ]
    },
    {
      "cell_type": "code",
      "metadata": {
        "colab": {
          "base_uri": "https://localhost:8080/"
        },
        "id": "Yi3E_jrwUtxq",
        "outputId": "36c9f9ee-7ec5-4770-c55c-916c1d8d61c1"
      },
      "source": [
        "total"
      ],
      "execution_count": 22,
      "outputs": [
        {
          "output_type": "execute_result",
          "data": {
            "text/plain": [
              "5944459"
            ]
          },
          "metadata": {
            "tags": []
          },
          "execution_count": 22
        }
      ]
    },
    {
      "cell_type": "code",
      "metadata": {
        "colab": {
          "base_uri": "https://localhost:8080/"
        },
        "id": "MqvPLPqFv-A0",
        "outputId": "8b784864-20e0-42aa-f7cd-1ab5fd485e9c"
      },
      "source": [
        "print(f'A busca por categorias (novela, filmes, series, etc) corresponde a {((categorias/total)*100):.2f}% de todas as buscas')\n",
        "print(f'O restante ({((1-(categorias/total))*100):.2f}%) corresponde a buscar por títulos')"
      ],
      "execution_count": 23,
      "outputs": [
        {
          "output_type": "stream",
          "text": [
            "A busca por categorias (novela, filmes, series, etc) corresponde a 17.38% de todas as buscas\n",
            "O restante (82.62%) corresponde a buscar por títulos\n"
          ],
          "name": "stdout"
        }
      ]
    },
    {
      "cell_type": "code",
      "metadata": {
        "id": "XzRMq3KYwL1s",
        "colab": {
          "base_uri": "https://localhost:8080/"
        },
        "outputId": "93bd3881-0deb-4113-f7bc-003ed077aec4"
      },
      "source": [
        "x = ['Títulos','Categorias']\n",
        "y = (([(((total-categorias)/total)*100).round(2),((categorias/total)*100).round(2),]))\n",
        "z = ['Novelas','Filmes','Jornal','Series','Documentarios','Humor']\n",
        "w = ((([novelas,filmes,jornal,series,documentarios,humor]/categorias))*100).round(2)\n",
        "w"
      ],
      "execution_count": 24,
      "outputs": [
        {
          "output_type": "execute_result",
          "data": {
            "text/plain": [
              "array([34.09, 27.87, 25.86,  8.85,  3.2 ,  0.13])"
            ]
          },
          "metadata": {
            "tags": []
          },
          "execution_count": 24
        }
      ]
    },
    {
      "cell_type": "code",
      "metadata": {
        "colab": {
          "base_uri": "https://localhost:8080/",
          "height": 542
        },
        "id": "n_tA1JsZTp7f",
        "outputId": "dd9ad72d-7346-4db8-ebda-8cea3ff74676"
      },
      "source": [
        "# Use textposition='auto' for direct text\n",
        "fig = go.Figure(data=[go.Bar(\n",
        "            x=x, y=y,\n",
        "            text=y,\n",
        "            textposition='auto',\n",
        "            marker_color='red'\n",
        "        )])\n",
        "\n",
        "fig.show()"
      ],
      "execution_count": 25,
      "outputs": [
        {
          "output_type": "display_data",
          "data": {
            "text/html": [
              "<html>\n",
              "<head><meta charset=\"utf-8\" /></head>\n",
              "<body>\n",
              "    <div>\n",
              "            <script src=\"https://cdnjs.cloudflare.com/ajax/libs/mathjax/2.7.5/MathJax.js?config=TeX-AMS-MML_SVG\"></script><script type=\"text/javascript\">if (window.MathJax) {MathJax.Hub.Config({SVG: {font: \"STIX-Web\"}});}</script>\n",
              "                <script type=\"text/javascript\">window.PlotlyConfig = {MathJaxConfig: 'local'};</script>\n",
              "        <script src=\"https://cdn.plot.ly/plotly-latest.min.js\"></script>    \n",
              "            <div id=\"47864ea5-60be-4354-9c2d-80fa1cb2d7cd\" class=\"plotly-graph-div\" style=\"height:525px; width:100%;\"></div>\n",
              "            <script type=\"text/javascript\">\n",
              "                \n",
              "                    window.PLOTLYENV=window.PLOTLYENV || {};\n",
              "                    \n",
              "                if (document.getElementById(\"47864ea5-60be-4354-9c2d-80fa1cb2d7cd\")) {\n",
              "                    Plotly.newPlot(\n",
              "                        '47864ea5-60be-4354-9c2d-80fa1cb2d7cd',\n",
              "                        [{\"marker\": {\"color\": \"red\"}, \"text\": [\"82.62\", \"17.38\"], \"textposition\": \"auto\", \"type\": \"bar\", \"x\": [\"T\\u00edtulos\", \"Categorias\"], \"y\": [82.62, 17.38]}],\n",
              "                        {\"template\": {\"data\": {\"bar\": [{\"error_x\": {\"color\": \"#2a3f5f\"}, \"error_y\": {\"color\": \"#2a3f5f\"}, \"marker\": {\"line\": {\"color\": \"#E5ECF6\", \"width\": 0.5}}, \"type\": \"bar\"}], \"barpolar\": [{\"marker\": {\"line\": {\"color\": \"#E5ECF6\", \"width\": 0.5}}, \"type\": \"barpolar\"}], \"carpet\": [{\"aaxis\": {\"endlinecolor\": \"#2a3f5f\", \"gridcolor\": \"white\", \"linecolor\": \"white\", \"minorgridcolor\": \"white\", \"startlinecolor\": \"#2a3f5f\"}, \"baxis\": {\"endlinecolor\": \"#2a3f5f\", \"gridcolor\": \"white\", \"linecolor\": \"white\", \"minorgridcolor\": \"white\", \"startlinecolor\": \"#2a3f5f\"}, \"type\": \"carpet\"}], \"choropleth\": [{\"colorbar\": {\"outlinewidth\": 0, \"ticks\": \"\"}, \"type\": \"choropleth\"}], \"contour\": [{\"colorbar\": {\"outlinewidth\": 0, \"ticks\": \"\"}, \"colorscale\": [[0.0, \"#0d0887\"], [0.1111111111111111, \"#46039f\"], [0.2222222222222222, \"#7201a8\"], [0.3333333333333333, \"#9c179e\"], [0.4444444444444444, \"#bd3786\"], [0.5555555555555556, \"#d8576b\"], [0.6666666666666666, \"#ed7953\"], [0.7777777777777778, \"#fb9f3a\"], [0.8888888888888888, \"#fdca26\"], [1.0, \"#f0f921\"]], \"type\": \"contour\"}], \"contourcarpet\": [{\"colorbar\": {\"outlinewidth\": 0, \"ticks\": \"\"}, \"type\": \"contourcarpet\"}], \"heatmap\": [{\"colorbar\": {\"outlinewidth\": 0, \"ticks\": \"\"}, \"colorscale\": [[0.0, \"#0d0887\"], [0.1111111111111111, \"#46039f\"], [0.2222222222222222, \"#7201a8\"], [0.3333333333333333, \"#9c179e\"], [0.4444444444444444, \"#bd3786\"], [0.5555555555555556, \"#d8576b\"], [0.6666666666666666, \"#ed7953\"], [0.7777777777777778, \"#fb9f3a\"], [0.8888888888888888, \"#fdca26\"], [1.0, \"#f0f921\"]], \"type\": \"heatmap\"}], \"heatmapgl\": [{\"colorbar\": {\"outlinewidth\": 0, \"ticks\": \"\"}, \"colorscale\": [[0.0, \"#0d0887\"], [0.1111111111111111, \"#46039f\"], [0.2222222222222222, \"#7201a8\"], [0.3333333333333333, \"#9c179e\"], [0.4444444444444444, \"#bd3786\"], [0.5555555555555556, \"#d8576b\"], [0.6666666666666666, \"#ed7953\"], [0.7777777777777778, \"#fb9f3a\"], [0.8888888888888888, \"#fdca26\"], [1.0, \"#f0f921\"]], \"type\": \"heatmapgl\"}], \"histogram\": [{\"marker\": {\"colorbar\": {\"outlinewidth\": 0, \"ticks\": \"\"}}, \"type\": \"histogram\"}], \"histogram2d\": [{\"colorbar\": {\"outlinewidth\": 0, \"ticks\": \"\"}, \"colorscale\": [[0.0, \"#0d0887\"], [0.1111111111111111, \"#46039f\"], [0.2222222222222222, \"#7201a8\"], [0.3333333333333333, \"#9c179e\"], [0.4444444444444444, \"#bd3786\"], [0.5555555555555556, \"#d8576b\"], [0.6666666666666666, \"#ed7953\"], [0.7777777777777778, \"#fb9f3a\"], [0.8888888888888888, \"#fdca26\"], [1.0, \"#f0f921\"]], \"type\": \"histogram2d\"}], \"histogram2dcontour\": [{\"colorbar\": {\"outlinewidth\": 0, \"ticks\": \"\"}, \"colorscale\": [[0.0, \"#0d0887\"], [0.1111111111111111, \"#46039f\"], [0.2222222222222222, \"#7201a8\"], [0.3333333333333333, \"#9c179e\"], [0.4444444444444444, \"#bd3786\"], [0.5555555555555556, \"#d8576b\"], [0.6666666666666666, \"#ed7953\"], [0.7777777777777778, \"#fb9f3a\"], [0.8888888888888888, \"#fdca26\"], [1.0, \"#f0f921\"]], \"type\": \"histogram2dcontour\"}], \"mesh3d\": [{\"colorbar\": {\"outlinewidth\": 0, \"ticks\": \"\"}, \"type\": \"mesh3d\"}], \"parcoords\": [{\"line\": {\"colorbar\": {\"outlinewidth\": 0, \"ticks\": \"\"}}, \"type\": \"parcoords\"}], \"pie\": [{\"automargin\": true, \"type\": \"pie\"}], \"scatter\": [{\"marker\": {\"colorbar\": {\"outlinewidth\": 0, \"ticks\": \"\"}}, \"type\": \"scatter\"}], \"scatter3d\": [{\"line\": {\"colorbar\": {\"outlinewidth\": 0, \"ticks\": \"\"}}, \"marker\": {\"colorbar\": {\"outlinewidth\": 0, \"ticks\": \"\"}}, \"type\": \"scatter3d\"}], \"scattercarpet\": [{\"marker\": {\"colorbar\": {\"outlinewidth\": 0, \"ticks\": \"\"}}, \"type\": \"scattercarpet\"}], \"scattergeo\": [{\"marker\": {\"colorbar\": {\"outlinewidth\": 0, \"ticks\": \"\"}}, \"type\": \"scattergeo\"}], \"scattergl\": [{\"marker\": {\"colorbar\": {\"outlinewidth\": 0, \"ticks\": \"\"}}, \"type\": \"scattergl\"}], \"scattermapbox\": [{\"marker\": {\"colorbar\": {\"outlinewidth\": 0, \"ticks\": \"\"}}, \"type\": \"scattermapbox\"}], \"scatterpolar\": [{\"marker\": {\"colorbar\": {\"outlinewidth\": 0, \"ticks\": \"\"}}, \"type\": \"scatterpolar\"}], \"scatterpolargl\": [{\"marker\": {\"colorbar\": {\"outlinewidth\": 0, \"ticks\": \"\"}}, \"type\": \"scatterpolargl\"}], \"scatterternary\": [{\"marker\": {\"colorbar\": {\"outlinewidth\": 0, \"ticks\": \"\"}}, \"type\": \"scatterternary\"}], \"surface\": [{\"colorbar\": {\"outlinewidth\": 0, \"ticks\": \"\"}, \"colorscale\": [[0.0, \"#0d0887\"], [0.1111111111111111, \"#46039f\"], [0.2222222222222222, \"#7201a8\"], [0.3333333333333333, \"#9c179e\"], [0.4444444444444444, \"#bd3786\"], [0.5555555555555556, \"#d8576b\"], [0.6666666666666666, \"#ed7953\"], [0.7777777777777778, \"#fb9f3a\"], [0.8888888888888888, \"#fdca26\"], [1.0, \"#f0f921\"]], \"type\": \"surface\"}], \"table\": [{\"cells\": {\"fill\": {\"color\": \"#EBF0F8\"}, \"line\": {\"color\": \"white\"}}, \"header\": {\"fill\": {\"color\": \"#C8D4E3\"}, \"line\": {\"color\": \"white\"}}, \"type\": \"table\"}]}, \"layout\": {\"annotationdefaults\": {\"arrowcolor\": \"#2a3f5f\", \"arrowhead\": 0, \"arrowwidth\": 1}, \"coloraxis\": {\"colorbar\": {\"outlinewidth\": 0, \"ticks\": \"\"}}, \"colorscale\": {\"diverging\": [[0, \"#8e0152\"], [0.1, \"#c51b7d\"], [0.2, \"#de77ae\"], [0.3, \"#f1b6da\"], [0.4, \"#fde0ef\"], [0.5, \"#f7f7f7\"], [0.6, \"#e6f5d0\"], [0.7, \"#b8e186\"], [0.8, \"#7fbc41\"], [0.9, \"#4d9221\"], [1, \"#276419\"]], \"sequential\": [[0.0, \"#0d0887\"], [0.1111111111111111, \"#46039f\"], [0.2222222222222222, \"#7201a8\"], [0.3333333333333333, \"#9c179e\"], [0.4444444444444444, \"#bd3786\"], [0.5555555555555556, \"#d8576b\"], [0.6666666666666666, \"#ed7953\"], [0.7777777777777778, \"#fb9f3a\"], [0.8888888888888888, \"#fdca26\"], [1.0, \"#f0f921\"]], \"sequentialminus\": [[0.0, \"#0d0887\"], [0.1111111111111111, \"#46039f\"], [0.2222222222222222, \"#7201a8\"], [0.3333333333333333, \"#9c179e\"], [0.4444444444444444, \"#bd3786\"], [0.5555555555555556, \"#d8576b\"], [0.6666666666666666, \"#ed7953\"], [0.7777777777777778, \"#fb9f3a\"], [0.8888888888888888, \"#fdca26\"], [1.0, \"#f0f921\"]]}, \"colorway\": [\"#636efa\", \"#EF553B\", \"#00cc96\", \"#ab63fa\", \"#FFA15A\", \"#19d3f3\", \"#FF6692\", \"#B6E880\", \"#FF97FF\", \"#FECB52\"], \"font\": {\"color\": \"#2a3f5f\"}, \"geo\": {\"bgcolor\": \"white\", \"lakecolor\": \"white\", \"landcolor\": \"#E5ECF6\", \"showlakes\": true, \"showland\": true, \"subunitcolor\": \"white\"}, \"hoverlabel\": {\"align\": \"left\"}, \"hovermode\": \"closest\", \"mapbox\": {\"style\": \"light\"}, \"paper_bgcolor\": \"white\", \"plot_bgcolor\": \"#E5ECF6\", \"polar\": {\"angularaxis\": {\"gridcolor\": \"white\", \"linecolor\": \"white\", \"ticks\": \"\"}, \"bgcolor\": \"#E5ECF6\", \"radialaxis\": {\"gridcolor\": \"white\", \"linecolor\": \"white\", \"ticks\": \"\"}}, \"scene\": {\"xaxis\": {\"backgroundcolor\": \"#E5ECF6\", \"gridcolor\": \"white\", \"gridwidth\": 2, \"linecolor\": \"white\", \"showbackground\": true, \"ticks\": \"\", \"zerolinecolor\": \"white\"}, \"yaxis\": {\"backgroundcolor\": \"#E5ECF6\", \"gridcolor\": \"white\", \"gridwidth\": 2, \"linecolor\": \"white\", \"showbackground\": true, \"ticks\": \"\", \"zerolinecolor\": \"white\"}, \"zaxis\": {\"backgroundcolor\": \"#E5ECF6\", \"gridcolor\": \"white\", \"gridwidth\": 2, \"linecolor\": \"white\", \"showbackground\": true, \"ticks\": \"\", \"zerolinecolor\": \"white\"}}, \"shapedefaults\": {\"line\": {\"color\": \"#2a3f5f\"}}, \"ternary\": {\"aaxis\": {\"gridcolor\": \"white\", \"linecolor\": \"white\", \"ticks\": \"\"}, \"baxis\": {\"gridcolor\": \"white\", \"linecolor\": \"white\", \"ticks\": \"\"}, \"bgcolor\": \"#E5ECF6\", \"caxis\": {\"gridcolor\": \"white\", \"linecolor\": \"white\", \"ticks\": \"\"}}, \"title\": {\"x\": 0.05}, \"xaxis\": {\"automargin\": true, \"gridcolor\": \"white\", \"linecolor\": \"white\", \"ticks\": \"\", \"title\": {\"standoff\": 15}, \"zerolinecolor\": \"white\", \"zerolinewidth\": 2}, \"yaxis\": {\"automargin\": true, \"gridcolor\": \"white\", \"linecolor\": \"white\", \"ticks\": \"\", \"title\": {\"standoff\": 15}, \"zerolinecolor\": \"white\", \"zerolinewidth\": 2}}}},\n",
              "                        {\"responsive\": true}\n",
              "                    ).then(function(){\n",
              "                            \n",
              "var gd = document.getElementById('47864ea5-60be-4354-9c2d-80fa1cb2d7cd');\n",
              "var x = new MutationObserver(function (mutations, observer) {{\n",
              "        var display = window.getComputedStyle(gd).display;\n",
              "        if (!display || display === 'none') {{\n",
              "            console.log([gd, 'removed!']);\n",
              "            Plotly.purge(gd);\n",
              "            observer.disconnect();\n",
              "        }}\n",
              "}});\n",
              "\n",
              "// Listen for the removal of the full notebook cells\n",
              "var notebookContainer = gd.closest('#notebook-container');\n",
              "if (notebookContainer) {{\n",
              "    x.observe(notebookContainer, {childList: true});\n",
              "}}\n",
              "\n",
              "// Listen for the clearing of the current output cell\n",
              "var outputEl = gd.closest('.output');\n",
              "if (outputEl) {{\n",
              "    x.observe(outputEl, {childList: true});\n",
              "}}\n",
              "\n",
              "                        })\n",
              "                };\n",
              "                \n",
              "            </script>\n",
              "        </div>\n",
              "</body>\n",
              "</html>"
            ]
          },
          "metadata": {
            "tags": []
          }
        }
      ]
    },
    {
      "cell_type": "code",
      "metadata": {
        "colab": {
          "base_uri": "https://localhost:8080/",
          "height": 542
        },
        "id": "AxXu6svzTyBW",
        "outputId": "3f93f2dc-a185-4e49-f6bd-80a7b7f775d7"
      },
      "source": [
        "# Use textposition='auto' for direct text\n",
        "fig = go.Figure(data=[go.Bar(\n",
        "            x=z, y=w,\n",
        "            text=w,\n",
        "            textposition='auto',\n",
        "            marker_color = 'red'\n",
        "        )])\n",
        "\n",
        "fig.show()"
      ],
      "execution_count": 26,
      "outputs": [
        {
          "output_type": "display_data",
          "data": {
            "text/html": [
              "<html>\n",
              "<head><meta charset=\"utf-8\" /></head>\n",
              "<body>\n",
              "    <div>\n",
              "            <script src=\"https://cdnjs.cloudflare.com/ajax/libs/mathjax/2.7.5/MathJax.js?config=TeX-AMS-MML_SVG\"></script><script type=\"text/javascript\">if (window.MathJax) {MathJax.Hub.Config({SVG: {font: \"STIX-Web\"}});}</script>\n",
              "                <script type=\"text/javascript\">window.PlotlyConfig = {MathJaxConfig: 'local'};</script>\n",
              "        <script src=\"https://cdn.plot.ly/plotly-latest.min.js\"></script>    \n",
              "            <div id=\"f3b27254-855e-4833-bf38-b40ffef62a8e\" class=\"plotly-graph-div\" style=\"height:525px; width:100%;\"></div>\n",
              "            <script type=\"text/javascript\">\n",
              "                \n",
              "                    window.PLOTLYENV=window.PLOTLYENV || {};\n",
              "                    \n",
              "                if (document.getElementById(\"f3b27254-855e-4833-bf38-b40ffef62a8e\")) {\n",
              "                    Plotly.newPlot(\n",
              "                        'f3b27254-855e-4833-bf38-b40ffef62a8e',\n",
              "                        [{\"marker\": {\"color\": \"red\"}, \"text\": [34.09, 27.87, 25.86, 8.85, 3.2, 0.13], \"textposition\": \"auto\", \"type\": \"bar\", \"x\": [\"Novelas\", \"Filmes\", \"Jornal\", \"Series\", \"Documentarios\", \"Humor\"], \"y\": [34.09, 27.87, 25.86, 8.85, 3.2, 0.13]}],\n",
              "                        {\"template\": {\"data\": {\"bar\": [{\"error_x\": {\"color\": \"#2a3f5f\"}, \"error_y\": {\"color\": \"#2a3f5f\"}, \"marker\": {\"line\": {\"color\": \"#E5ECF6\", \"width\": 0.5}}, \"type\": \"bar\"}], \"barpolar\": [{\"marker\": {\"line\": {\"color\": \"#E5ECF6\", \"width\": 0.5}}, \"type\": \"barpolar\"}], \"carpet\": [{\"aaxis\": {\"endlinecolor\": \"#2a3f5f\", \"gridcolor\": \"white\", \"linecolor\": \"white\", \"minorgridcolor\": \"white\", \"startlinecolor\": \"#2a3f5f\"}, \"baxis\": {\"endlinecolor\": \"#2a3f5f\", \"gridcolor\": \"white\", \"linecolor\": \"white\", \"minorgridcolor\": \"white\", \"startlinecolor\": \"#2a3f5f\"}, \"type\": \"carpet\"}], \"choropleth\": [{\"colorbar\": {\"outlinewidth\": 0, \"ticks\": \"\"}, \"type\": \"choropleth\"}], \"contour\": [{\"colorbar\": {\"outlinewidth\": 0, \"ticks\": \"\"}, \"colorscale\": [[0.0, \"#0d0887\"], [0.1111111111111111, \"#46039f\"], [0.2222222222222222, \"#7201a8\"], [0.3333333333333333, \"#9c179e\"], [0.4444444444444444, \"#bd3786\"], [0.5555555555555556, \"#d8576b\"], [0.6666666666666666, \"#ed7953\"], [0.7777777777777778, \"#fb9f3a\"], [0.8888888888888888, \"#fdca26\"], [1.0, \"#f0f921\"]], \"type\": \"contour\"}], \"contourcarpet\": [{\"colorbar\": {\"outlinewidth\": 0, \"ticks\": \"\"}, \"type\": \"contourcarpet\"}], \"heatmap\": [{\"colorbar\": {\"outlinewidth\": 0, \"ticks\": \"\"}, \"colorscale\": [[0.0, \"#0d0887\"], [0.1111111111111111, \"#46039f\"], [0.2222222222222222, \"#7201a8\"], [0.3333333333333333, \"#9c179e\"], [0.4444444444444444, \"#bd3786\"], [0.5555555555555556, \"#d8576b\"], [0.6666666666666666, \"#ed7953\"], [0.7777777777777778, \"#fb9f3a\"], [0.8888888888888888, \"#fdca26\"], [1.0, \"#f0f921\"]], \"type\": \"heatmap\"}], \"heatmapgl\": [{\"colorbar\": {\"outlinewidth\": 0, \"ticks\": \"\"}, \"colorscale\": [[0.0, \"#0d0887\"], [0.1111111111111111, \"#46039f\"], [0.2222222222222222, \"#7201a8\"], [0.3333333333333333, \"#9c179e\"], [0.4444444444444444, \"#bd3786\"], [0.5555555555555556, \"#d8576b\"], [0.6666666666666666, \"#ed7953\"], [0.7777777777777778, \"#fb9f3a\"], [0.8888888888888888, \"#fdca26\"], [1.0, \"#f0f921\"]], \"type\": \"heatmapgl\"}], \"histogram\": [{\"marker\": {\"colorbar\": {\"outlinewidth\": 0, \"ticks\": \"\"}}, \"type\": \"histogram\"}], \"histogram2d\": [{\"colorbar\": {\"outlinewidth\": 0, \"ticks\": \"\"}, \"colorscale\": [[0.0, \"#0d0887\"], [0.1111111111111111, \"#46039f\"], [0.2222222222222222, \"#7201a8\"], [0.3333333333333333, \"#9c179e\"], [0.4444444444444444, \"#bd3786\"], [0.5555555555555556, \"#d8576b\"], [0.6666666666666666, \"#ed7953\"], [0.7777777777777778, \"#fb9f3a\"], [0.8888888888888888, \"#fdca26\"], [1.0, \"#f0f921\"]], \"type\": \"histogram2d\"}], \"histogram2dcontour\": [{\"colorbar\": {\"outlinewidth\": 0, \"ticks\": \"\"}, \"colorscale\": [[0.0, \"#0d0887\"], [0.1111111111111111, \"#46039f\"], [0.2222222222222222, \"#7201a8\"], [0.3333333333333333, \"#9c179e\"], [0.4444444444444444, \"#bd3786\"], [0.5555555555555556, \"#d8576b\"], [0.6666666666666666, \"#ed7953\"], [0.7777777777777778, \"#fb9f3a\"], [0.8888888888888888, \"#fdca26\"], [1.0, \"#f0f921\"]], \"type\": \"histogram2dcontour\"}], \"mesh3d\": [{\"colorbar\": {\"outlinewidth\": 0, \"ticks\": \"\"}, \"type\": \"mesh3d\"}], \"parcoords\": [{\"line\": {\"colorbar\": {\"outlinewidth\": 0, \"ticks\": \"\"}}, \"type\": \"parcoords\"}], \"pie\": [{\"automargin\": true, \"type\": \"pie\"}], \"scatter\": [{\"marker\": {\"colorbar\": {\"outlinewidth\": 0, \"ticks\": \"\"}}, \"type\": \"scatter\"}], \"scatter3d\": [{\"line\": {\"colorbar\": {\"outlinewidth\": 0, \"ticks\": \"\"}}, \"marker\": {\"colorbar\": {\"outlinewidth\": 0, \"ticks\": \"\"}}, \"type\": \"scatter3d\"}], \"scattercarpet\": [{\"marker\": {\"colorbar\": {\"outlinewidth\": 0, \"ticks\": \"\"}}, \"type\": \"scattercarpet\"}], \"scattergeo\": [{\"marker\": {\"colorbar\": {\"outlinewidth\": 0, \"ticks\": \"\"}}, \"type\": \"scattergeo\"}], \"scattergl\": [{\"marker\": {\"colorbar\": {\"outlinewidth\": 0, \"ticks\": \"\"}}, \"type\": \"scattergl\"}], \"scattermapbox\": [{\"marker\": {\"colorbar\": {\"outlinewidth\": 0, \"ticks\": \"\"}}, \"type\": \"scattermapbox\"}], \"scatterpolar\": [{\"marker\": {\"colorbar\": {\"outlinewidth\": 0, \"ticks\": \"\"}}, \"type\": \"scatterpolar\"}], \"scatterpolargl\": [{\"marker\": {\"colorbar\": {\"outlinewidth\": 0, \"ticks\": \"\"}}, \"type\": \"scatterpolargl\"}], \"scatterternary\": [{\"marker\": {\"colorbar\": {\"outlinewidth\": 0, \"ticks\": \"\"}}, \"type\": \"scatterternary\"}], \"surface\": [{\"colorbar\": {\"outlinewidth\": 0, \"ticks\": \"\"}, \"colorscale\": [[0.0, \"#0d0887\"], [0.1111111111111111, \"#46039f\"], [0.2222222222222222, \"#7201a8\"], [0.3333333333333333, \"#9c179e\"], [0.4444444444444444, \"#bd3786\"], [0.5555555555555556, \"#d8576b\"], [0.6666666666666666, \"#ed7953\"], [0.7777777777777778, \"#fb9f3a\"], [0.8888888888888888, \"#fdca26\"], [1.0, \"#f0f921\"]], \"type\": \"surface\"}], \"table\": [{\"cells\": {\"fill\": {\"color\": \"#EBF0F8\"}, \"line\": {\"color\": \"white\"}}, \"header\": {\"fill\": {\"color\": \"#C8D4E3\"}, \"line\": {\"color\": \"white\"}}, \"type\": \"table\"}]}, \"layout\": {\"annotationdefaults\": {\"arrowcolor\": \"#2a3f5f\", \"arrowhead\": 0, \"arrowwidth\": 1}, \"coloraxis\": {\"colorbar\": {\"outlinewidth\": 0, \"ticks\": \"\"}}, \"colorscale\": {\"diverging\": [[0, \"#8e0152\"], [0.1, \"#c51b7d\"], [0.2, \"#de77ae\"], [0.3, \"#f1b6da\"], [0.4, \"#fde0ef\"], [0.5, \"#f7f7f7\"], [0.6, \"#e6f5d0\"], [0.7, \"#b8e186\"], [0.8, \"#7fbc41\"], [0.9, \"#4d9221\"], [1, \"#276419\"]], \"sequential\": [[0.0, \"#0d0887\"], [0.1111111111111111, \"#46039f\"], [0.2222222222222222, \"#7201a8\"], [0.3333333333333333, \"#9c179e\"], [0.4444444444444444, \"#bd3786\"], [0.5555555555555556, \"#d8576b\"], [0.6666666666666666, \"#ed7953\"], [0.7777777777777778, \"#fb9f3a\"], [0.8888888888888888, \"#fdca26\"], [1.0, \"#f0f921\"]], \"sequentialminus\": [[0.0, \"#0d0887\"], [0.1111111111111111, \"#46039f\"], [0.2222222222222222, \"#7201a8\"], [0.3333333333333333, \"#9c179e\"], [0.4444444444444444, \"#bd3786\"], [0.5555555555555556, \"#d8576b\"], [0.6666666666666666, \"#ed7953\"], [0.7777777777777778, \"#fb9f3a\"], [0.8888888888888888, \"#fdca26\"], [1.0, \"#f0f921\"]]}, \"colorway\": [\"#636efa\", \"#EF553B\", \"#00cc96\", \"#ab63fa\", \"#FFA15A\", \"#19d3f3\", \"#FF6692\", \"#B6E880\", \"#FF97FF\", \"#FECB52\"], \"font\": {\"color\": \"#2a3f5f\"}, \"geo\": {\"bgcolor\": \"white\", \"lakecolor\": \"white\", \"landcolor\": \"#E5ECF6\", \"showlakes\": true, \"showland\": true, \"subunitcolor\": \"white\"}, \"hoverlabel\": {\"align\": \"left\"}, \"hovermode\": \"closest\", \"mapbox\": {\"style\": \"light\"}, \"paper_bgcolor\": \"white\", \"plot_bgcolor\": \"#E5ECF6\", \"polar\": {\"angularaxis\": {\"gridcolor\": \"white\", \"linecolor\": \"white\", \"ticks\": \"\"}, \"bgcolor\": \"#E5ECF6\", \"radialaxis\": {\"gridcolor\": \"white\", \"linecolor\": \"white\", \"ticks\": \"\"}}, \"scene\": {\"xaxis\": {\"backgroundcolor\": \"#E5ECF6\", \"gridcolor\": \"white\", \"gridwidth\": 2, \"linecolor\": \"white\", \"showbackground\": true, \"ticks\": \"\", \"zerolinecolor\": \"white\"}, \"yaxis\": {\"backgroundcolor\": \"#E5ECF6\", \"gridcolor\": \"white\", \"gridwidth\": 2, \"linecolor\": \"white\", \"showbackground\": true, \"ticks\": \"\", \"zerolinecolor\": \"white\"}, \"zaxis\": {\"backgroundcolor\": \"#E5ECF6\", \"gridcolor\": \"white\", \"gridwidth\": 2, \"linecolor\": \"white\", \"showbackground\": true, \"ticks\": \"\", \"zerolinecolor\": \"white\"}}, \"shapedefaults\": {\"line\": {\"color\": \"#2a3f5f\"}}, \"ternary\": {\"aaxis\": {\"gridcolor\": \"white\", \"linecolor\": \"white\", \"ticks\": \"\"}, \"baxis\": {\"gridcolor\": \"white\", \"linecolor\": \"white\", \"ticks\": \"\"}, \"bgcolor\": \"#E5ECF6\", \"caxis\": {\"gridcolor\": \"white\", \"linecolor\": \"white\", \"ticks\": \"\"}}, \"title\": {\"x\": 0.05}, \"xaxis\": {\"automargin\": true, \"gridcolor\": \"white\", \"linecolor\": \"white\", \"ticks\": \"\", \"title\": {\"standoff\": 15}, \"zerolinecolor\": \"white\", \"zerolinewidth\": 2}, \"yaxis\": {\"automargin\": true, \"gridcolor\": \"white\", \"linecolor\": \"white\", \"ticks\": \"\", \"title\": {\"standoff\": 15}, \"zerolinecolor\": \"white\", \"zerolinewidth\": 2}}}},\n",
              "                        {\"responsive\": true}\n",
              "                    ).then(function(){\n",
              "                            \n",
              "var gd = document.getElementById('f3b27254-855e-4833-bf38-b40ffef62a8e');\n",
              "var x = new MutationObserver(function (mutations, observer) {{\n",
              "        var display = window.getComputedStyle(gd).display;\n",
              "        if (!display || display === 'none') {{\n",
              "            console.log([gd, 'removed!']);\n",
              "            Plotly.purge(gd);\n",
              "            observer.disconnect();\n",
              "        }}\n",
              "}});\n",
              "\n",
              "// Listen for the removal of the full notebook cells\n",
              "var notebookContainer = gd.closest('#notebook-container');\n",
              "if (notebookContainer) {{\n",
              "    x.observe(notebookContainer, {childList: true});\n",
              "}}\n",
              "\n",
              "// Listen for the clearing of the current output cell\n",
              "var outputEl = gd.closest('.output');\n",
              "if (outputEl) {{\n",
              "    x.observe(outputEl, {childList: true});\n",
              "}}\n",
              "\n",
              "                        })\n",
              "                };\n",
              "                \n",
              "            </script>\n",
              "        </div>\n",
              "</body>\n",
              "</html>"
            ]
          },
          "metadata": {
            "tags": []
          }
        }
      ]
    },
    {
      "cell_type": "code",
      "metadata": {
        "id": "1PEN4ojmDJS8"
      },
      "source": [
        "base_nov = df_busca_total[df_busca_total.eventLabel.str.contains('nove')].sort_values(by=[\"hitsBusca\",\"eventLabel\"], ascending = False).head(5)"
      ],
      "execution_count": 27,
      "outputs": []
    },
    {
      "cell_type": "code",
      "metadata": {
        "colab": {
          "base_uri": "https://localhost:8080/",
          "height": 542
        },
        "id": "Fb6n4gWiC5uI",
        "outputId": "e28d6d3c-25a9-4991-f671-9b71fef882a7"
      },
      "source": [
        "\n",
        "# Use textposition='auto' for direct text\n",
        "fig = go.Figure(data=[go.Bar(\n",
        "            x=base_nov['eventLabel'], y=base_nov['hitsBusca']/novelas,\n",
        "            text=(base_nov['hitsBusca']/novelas)*100,\n",
        "            textposition='auto',\n",
        "            marker_color='red'\n",
        "        )])\n",
        "\n",
        "fig.show()"
      ],
      "execution_count": 28,
      "outputs": [
        {
          "output_type": "display_data",
          "data": {
            "text/html": [
              "<html>\n",
              "<head><meta charset=\"utf-8\" /></head>\n",
              "<body>\n",
              "    <div>\n",
              "            <script src=\"https://cdnjs.cloudflare.com/ajax/libs/mathjax/2.7.5/MathJax.js?config=TeX-AMS-MML_SVG\"></script><script type=\"text/javascript\">if (window.MathJax) {MathJax.Hub.Config({SVG: {font: \"STIX-Web\"}});}</script>\n",
              "                <script type=\"text/javascript\">window.PlotlyConfig = {MathJaxConfig: 'local'};</script>\n",
              "        <script src=\"https://cdn.plot.ly/plotly-latest.min.js\"></script>    \n",
              "            <div id=\"6a31d88d-fa18-4ff4-bdcd-5be5c7335a00\" class=\"plotly-graph-div\" style=\"height:525px; width:100%;\"></div>\n",
              "            <script type=\"text/javascript\">\n",
              "                \n",
              "                    window.PLOTLYENV=window.PLOTLYENV || {};\n",
              "                    \n",
              "                if (document.getElementById(\"6a31d88d-fa18-4ff4-bdcd-5be5c7335a00\")) {\n",
              "                    Plotly.newPlot(\n",
              "                        '6a31d88d-fa18-4ff4-bdcd-5be5c7335a00',\n",
              "                        [{\"marker\": {\"color\": \"red\"}, \"text\": [36.60535354395527, 22.828635499162623, 22.74489766953362, 14.79434556757217, 3.0267677197763203], \"textposition\": \"auto\", \"type\": \"bar\", \"x\": [\"novela\", \"novelas\", \"nove\", \"novel\", \"novela_a\"], \"y\": [0.36605353543955266, 0.22828635499162622, 0.22744897669533623, 0.1479434556757217, 0.030267677197763205]}],\n",
              "                        {\"template\": {\"data\": {\"bar\": [{\"error_x\": {\"color\": \"#2a3f5f\"}, \"error_y\": {\"color\": \"#2a3f5f\"}, \"marker\": {\"line\": {\"color\": \"#E5ECF6\", \"width\": 0.5}}, \"type\": \"bar\"}], \"barpolar\": [{\"marker\": {\"line\": {\"color\": \"#E5ECF6\", \"width\": 0.5}}, \"type\": \"barpolar\"}], \"carpet\": [{\"aaxis\": {\"endlinecolor\": \"#2a3f5f\", \"gridcolor\": \"white\", \"linecolor\": \"white\", \"minorgridcolor\": \"white\", \"startlinecolor\": \"#2a3f5f\"}, \"baxis\": {\"endlinecolor\": \"#2a3f5f\", \"gridcolor\": \"white\", \"linecolor\": \"white\", \"minorgridcolor\": \"white\", \"startlinecolor\": \"#2a3f5f\"}, \"type\": \"carpet\"}], \"choropleth\": [{\"colorbar\": {\"outlinewidth\": 0, \"ticks\": \"\"}, \"type\": \"choropleth\"}], \"contour\": [{\"colorbar\": {\"outlinewidth\": 0, \"ticks\": \"\"}, \"colorscale\": [[0.0, \"#0d0887\"], [0.1111111111111111, \"#46039f\"], [0.2222222222222222, \"#7201a8\"], [0.3333333333333333, \"#9c179e\"], [0.4444444444444444, \"#bd3786\"], [0.5555555555555556, \"#d8576b\"], [0.6666666666666666, \"#ed7953\"], [0.7777777777777778, \"#fb9f3a\"], [0.8888888888888888, \"#fdca26\"], [1.0, \"#f0f921\"]], \"type\": \"contour\"}], \"contourcarpet\": [{\"colorbar\": {\"outlinewidth\": 0, \"ticks\": \"\"}, \"type\": \"contourcarpet\"}], \"heatmap\": [{\"colorbar\": {\"outlinewidth\": 0, \"ticks\": \"\"}, \"colorscale\": [[0.0, \"#0d0887\"], [0.1111111111111111, \"#46039f\"], [0.2222222222222222, \"#7201a8\"], [0.3333333333333333, \"#9c179e\"], [0.4444444444444444, \"#bd3786\"], [0.5555555555555556, \"#d8576b\"], [0.6666666666666666, \"#ed7953\"], [0.7777777777777778, \"#fb9f3a\"], [0.8888888888888888, \"#fdca26\"], [1.0, \"#f0f921\"]], \"type\": \"heatmap\"}], \"heatmapgl\": [{\"colorbar\": {\"outlinewidth\": 0, \"ticks\": \"\"}, \"colorscale\": [[0.0, \"#0d0887\"], [0.1111111111111111, \"#46039f\"], [0.2222222222222222, \"#7201a8\"], [0.3333333333333333, \"#9c179e\"], [0.4444444444444444, \"#bd3786\"], [0.5555555555555556, \"#d8576b\"], [0.6666666666666666, \"#ed7953\"], [0.7777777777777778, \"#fb9f3a\"], [0.8888888888888888, \"#fdca26\"], [1.0, \"#f0f921\"]], \"type\": \"heatmapgl\"}], \"histogram\": [{\"marker\": {\"colorbar\": {\"outlinewidth\": 0, \"ticks\": \"\"}}, \"type\": \"histogram\"}], \"histogram2d\": [{\"colorbar\": {\"outlinewidth\": 0, \"ticks\": \"\"}, \"colorscale\": [[0.0, \"#0d0887\"], [0.1111111111111111, \"#46039f\"], [0.2222222222222222, \"#7201a8\"], [0.3333333333333333, \"#9c179e\"], [0.4444444444444444, \"#bd3786\"], [0.5555555555555556, \"#d8576b\"], [0.6666666666666666, \"#ed7953\"], [0.7777777777777778, \"#fb9f3a\"], [0.8888888888888888, \"#fdca26\"], [1.0, \"#f0f921\"]], \"type\": \"histogram2d\"}], \"histogram2dcontour\": [{\"colorbar\": {\"outlinewidth\": 0, \"ticks\": \"\"}, \"colorscale\": [[0.0, \"#0d0887\"], [0.1111111111111111, \"#46039f\"], [0.2222222222222222, \"#7201a8\"], [0.3333333333333333, \"#9c179e\"], [0.4444444444444444, \"#bd3786\"], [0.5555555555555556, \"#d8576b\"], [0.6666666666666666, \"#ed7953\"], [0.7777777777777778, \"#fb9f3a\"], [0.8888888888888888, \"#fdca26\"], [1.0, \"#f0f921\"]], \"type\": \"histogram2dcontour\"}], \"mesh3d\": [{\"colorbar\": {\"outlinewidth\": 0, \"ticks\": \"\"}, \"type\": \"mesh3d\"}], \"parcoords\": [{\"line\": {\"colorbar\": {\"outlinewidth\": 0, \"ticks\": \"\"}}, \"type\": \"parcoords\"}], \"pie\": [{\"automargin\": true, \"type\": \"pie\"}], \"scatter\": [{\"marker\": {\"colorbar\": {\"outlinewidth\": 0, \"ticks\": \"\"}}, \"type\": \"scatter\"}], \"scatter3d\": [{\"line\": {\"colorbar\": {\"outlinewidth\": 0, \"ticks\": \"\"}}, \"marker\": {\"colorbar\": {\"outlinewidth\": 0, \"ticks\": \"\"}}, \"type\": \"scatter3d\"}], \"scattercarpet\": [{\"marker\": {\"colorbar\": {\"outlinewidth\": 0, \"ticks\": \"\"}}, \"type\": \"scattercarpet\"}], \"scattergeo\": [{\"marker\": {\"colorbar\": {\"outlinewidth\": 0, \"ticks\": \"\"}}, \"type\": \"scattergeo\"}], \"scattergl\": [{\"marker\": {\"colorbar\": {\"outlinewidth\": 0, \"ticks\": \"\"}}, \"type\": \"scattergl\"}], \"scattermapbox\": [{\"marker\": {\"colorbar\": {\"outlinewidth\": 0, \"ticks\": \"\"}}, \"type\": \"scattermapbox\"}], \"scatterpolar\": [{\"marker\": {\"colorbar\": {\"outlinewidth\": 0, \"ticks\": \"\"}}, \"type\": \"scatterpolar\"}], \"scatterpolargl\": [{\"marker\": {\"colorbar\": {\"outlinewidth\": 0, \"ticks\": \"\"}}, \"type\": \"scatterpolargl\"}], \"scatterternary\": [{\"marker\": {\"colorbar\": {\"outlinewidth\": 0, \"ticks\": \"\"}}, \"type\": \"scatterternary\"}], \"surface\": [{\"colorbar\": {\"outlinewidth\": 0, \"ticks\": \"\"}, \"colorscale\": [[0.0, \"#0d0887\"], [0.1111111111111111, \"#46039f\"], [0.2222222222222222, \"#7201a8\"], [0.3333333333333333, \"#9c179e\"], [0.4444444444444444, \"#bd3786\"], [0.5555555555555556, \"#d8576b\"], [0.6666666666666666, \"#ed7953\"], [0.7777777777777778, \"#fb9f3a\"], [0.8888888888888888, \"#fdca26\"], [1.0, \"#f0f921\"]], \"type\": \"surface\"}], \"table\": [{\"cells\": {\"fill\": {\"color\": \"#EBF0F8\"}, \"line\": {\"color\": \"white\"}}, \"header\": {\"fill\": {\"color\": \"#C8D4E3\"}, \"line\": {\"color\": \"white\"}}, \"type\": \"table\"}]}, \"layout\": {\"annotationdefaults\": {\"arrowcolor\": \"#2a3f5f\", \"arrowhead\": 0, \"arrowwidth\": 1}, \"coloraxis\": {\"colorbar\": {\"outlinewidth\": 0, \"ticks\": \"\"}}, \"colorscale\": {\"diverging\": [[0, \"#8e0152\"], [0.1, \"#c51b7d\"], [0.2, \"#de77ae\"], [0.3, \"#f1b6da\"], [0.4, \"#fde0ef\"], [0.5, \"#f7f7f7\"], [0.6, \"#e6f5d0\"], [0.7, \"#b8e186\"], [0.8, \"#7fbc41\"], [0.9, \"#4d9221\"], [1, \"#276419\"]], \"sequential\": [[0.0, \"#0d0887\"], [0.1111111111111111, \"#46039f\"], [0.2222222222222222, \"#7201a8\"], [0.3333333333333333, \"#9c179e\"], [0.4444444444444444, \"#bd3786\"], [0.5555555555555556, \"#d8576b\"], [0.6666666666666666, \"#ed7953\"], [0.7777777777777778, \"#fb9f3a\"], [0.8888888888888888, \"#fdca26\"], [1.0, \"#f0f921\"]], \"sequentialminus\": [[0.0, \"#0d0887\"], [0.1111111111111111, \"#46039f\"], [0.2222222222222222, \"#7201a8\"], [0.3333333333333333, \"#9c179e\"], [0.4444444444444444, \"#bd3786\"], [0.5555555555555556, \"#d8576b\"], [0.6666666666666666, \"#ed7953\"], [0.7777777777777778, \"#fb9f3a\"], [0.8888888888888888, \"#fdca26\"], [1.0, \"#f0f921\"]]}, \"colorway\": [\"#636efa\", \"#EF553B\", \"#00cc96\", \"#ab63fa\", \"#FFA15A\", \"#19d3f3\", \"#FF6692\", \"#B6E880\", \"#FF97FF\", \"#FECB52\"], \"font\": {\"color\": \"#2a3f5f\"}, \"geo\": {\"bgcolor\": \"white\", \"lakecolor\": \"white\", \"landcolor\": \"#E5ECF6\", \"showlakes\": true, \"showland\": true, \"subunitcolor\": \"white\"}, \"hoverlabel\": {\"align\": \"left\"}, \"hovermode\": \"closest\", \"mapbox\": {\"style\": \"light\"}, \"paper_bgcolor\": \"white\", \"plot_bgcolor\": \"#E5ECF6\", \"polar\": {\"angularaxis\": {\"gridcolor\": \"white\", \"linecolor\": \"white\", \"ticks\": \"\"}, \"bgcolor\": \"#E5ECF6\", \"radialaxis\": {\"gridcolor\": \"white\", \"linecolor\": \"white\", \"ticks\": \"\"}}, \"scene\": {\"xaxis\": {\"backgroundcolor\": \"#E5ECF6\", \"gridcolor\": \"white\", \"gridwidth\": 2, \"linecolor\": \"white\", \"showbackground\": true, \"ticks\": \"\", \"zerolinecolor\": \"white\"}, \"yaxis\": {\"backgroundcolor\": \"#E5ECF6\", \"gridcolor\": \"white\", \"gridwidth\": 2, \"linecolor\": \"white\", \"showbackground\": true, \"ticks\": \"\", \"zerolinecolor\": \"white\"}, \"zaxis\": {\"backgroundcolor\": \"#E5ECF6\", \"gridcolor\": \"white\", \"gridwidth\": 2, \"linecolor\": \"white\", \"showbackground\": true, \"ticks\": \"\", \"zerolinecolor\": \"white\"}}, \"shapedefaults\": {\"line\": {\"color\": \"#2a3f5f\"}}, \"ternary\": {\"aaxis\": {\"gridcolor\": \"white\", \"linecolor\": \"white\", \"ticks\": \"\"}, \"baxis\": {\"gridcolor\": \"white\", \"linecolor\": \"white\", \"ticks\": \"\"}, \"bgcolor\": \"#E5ECF6\", \"caxis\": {\"gridcolor\": \"white\", \"linecolor\": \"white\", \"ticks\": \"\"}}, \"title\": {\"x\": 0.05}, \"xaxis\": {\"automargin\": true, \"gridcolor\": \"white\", \"linecolor\": \"white\", \"ticks\": \"\", \"title\": {\"standoff\": 15}, \"zerolinecolor\": \"white\", \"zerolinewidth\": 2}, \"yaxis\": {\"automargin\": true, \"gridcolor\": \"white\", \"linecolor\": \"white\", \"ticks\": \"\", \"title\": {\"standoff\": 15}, \"zerolinecolor\": \"white\", \"zerolinewidth\": 2}}}},\n",
              "                        {\"responsive\": true}\n",
              "                    ).then(function(){\n",
              "                            \n",
              "var gd = document.getElementById('6a31d88d-fa18-4ff4-bdcd-5be5c7335a00');\n",
              "var x = new MutationObserver(function (mutations, observer) {{\n",
              "        var display = window.getComputedStyle(gd).display;\n",
              "        if (!display || display === 'none') {{\n",
              "            console.log([gd, 'removed!']);\n",
              "            Plotly.purge(gd);\n",
              "            observer.disconnect();\n",
              "        }}\n",
              "}});\n",
              "\n",
              "// Listen for the removal of the full notebook cells\n",
              "var notebookContainer = gd.closest('#notebook-container');\n",
              "if (notebookContainer) {{\n",
              "    x.observe(notebookContainer, {childList: true});\n",
              "}}\n",
              "\n",
              "// Listen for the clearing of the current output cell\n",
              "var outputEl = gd.closest('.output');\n",
              "if (outputEl) {{\n",
              "    x.observe(outputEl, {childList: true});\n",
              "}}\n",
              "\n",
              "                        })\n",
              "                };\n",
              "                \n",
              "            </script>\n",
              "        </div>\n",
              "</body>\n",
              "</html>"
            ]
          },
          "metadata": {
            "tags": []
          }
        }
      ]
    },
    {
      "cell_type": "code",
      "metadata": {
        "id": "5vHYC9VsYDS2"
      },
      "source": [
        "df_busca_device = df_busca.groupby([\"plataforma\",\"eventLabel\"]).sum().reset_index()"
      ],
      "execution_count": 29,
      "outputs": []
    },
    {
      "cell_type": "code",
      "metadata": {
        "colab": {
          "base_uri": "https://localhost:8080/",
          "height": 204
        },
        "id": "YrhLoaPOeyKs",
        "outputId": "5f96221f-3619-4ff7-fee2-534adbbd32d6"
      },
      "source": [
        "df_busca_device.head()"
      ],
      "execution_count": 30,
      "outputs": [
        {
          "output_type": "execute_result",
          "data": {
            "text/html": [
              "<div>\n",
              "<style scoped>\n",
              "    .dataframe tbody tr th:only-of-type {\n",
              "        vertical-align: middle;\n",
              "    }\n",
              "\n",
              "    .dataframe tbody tr th {\n",
              "        vertical-align: top;\n",
              "    }\n",
              "\n",
              "    .dataframe thead th {\n",
              "        text-align: right;\n",
              "    }\n",
              "</style>\n",
              "<table border=\"1\" class=\"dataframe\">\n",
              "  <thead>\n",
              "    <tr style=\"text-align: right;\">\n",
              "      <th></th>\n",
              "      <th>plataforma</th>\n",
              "      <th>eventLabel</th>\n",
              "      <th>distinctUsers</th>\n",
              "      <th>countUsers</th>\n",
              "      <th>hitsBusca</th>\n",
              "    </tr>\n",
              "  </thead>\n",
              "  <tbody>\n",
              "    <tr>\n",
              "      <th>0</th>\n",
              "      <td>Android TV</td>\n",
              "      <td>1_co</td>\n",
              "      <td>0</td>\n",
              "      <td>0</td>\n",
              "      <td>1</td>\n",
              "    </tr>\n",
              "    <tr>\n",
              "      <th>1</th>\n",
              "      <td>Android TV</td>\n",
              "      <td>1_con</td>\n",
              "      <td>0</td>\n",
              "      <td>0</td>\n",
              "      <td>1</td>\n",
              "    </tr>\n",
              "    <tr>\n",
              "      <th>2</th>\n",
              "      <td>Android TV</td>\n",
              "      <td>1_contra</td>\n",
              "      <td>0</td>\n",
              "      <td>0</td>\n",
              "      <td>1</td>\n",
              "    </tr>\n",
              "    <tr>\n",
              "      <th>3</th>\n",
              "      <td>Android TV</td>\n",
              "      <td>1_contra_</td>\n",
              "      <td>0</td>\n",
              "      <td>0</td>\n",
              "      <td>1</td>\n",
              "    </tr>\n",
              "    <tr>\n",
              "      <th>4</th>\n",
              "      <td>Android TV</td>\n",
              "      <td>1_contra_t</td>\n",
              "      <td>0</td>\n",
              "      <td>0</td>\n",
              "      <td>1</td>\n",
              "    </tr>\n",
              "  </tbody>\n",
              "</table>\n",
              "</div>"
            ],
            "text/plain": [
              "   plataforma  eventLabel  distinctUsers  countUsers  hitsBusca\n",
              "0  Android TV        1_co              0           0          1\n",
              "1  Android TV       1_con              0           0          1\n",
              "2  Android TV    1_contra              0           0          1\n",
              "3  Android TV   1_contra_              0           0          1\n",
              "4  Android TV  1_contra_t              0           0          1"
            ]
          },
          "metadata": {
            "tags": []
          },
          "execution_count": 30
        }
      ]
    },
    {
      "cell_type": "code",
      "metadata": {
        "id": "vlIcvi3We15b"
      },
      "source": [
        "def categorizar (txt):\n",
        "  if any(x in txt for x in ['nove','film','docu','seri','humo','jorn']):\n",
        "    return 'categoria'\n",
        "  else:\n",
        "    return 'titulo'"
      ],
      "execution_count": 31,
      "outputs": []
    },
    {
      "cell_type": "code",
      "metadata": {
        "id": "UORRKleNrJjY"
      },
      "source": [
        "def tipo_categ(txt):\n",
        "  if 'nove' in txt:\n",
        "    return 'Novela'\n",
        "  elif 'docu' in txt:\n",
        "    return 'Documentario'\n",
        "  elif 'film' in txt:\n",
        "    return 'Filme'\n",
        "  elif 'seri' in txt:\n",
        "    return 'Serie'\n",
        "  elif 'jorn' in txt:\n",
        "    return 'Jornal'\n",
        "  elif 'humo' in txt:\n",
        "    return 'Humor'\n",
        "  else:\n",
        "    return 'titulo'"
      ],
      "execution_count": 32,
      "outputs": []
    },
    {
      "cell_type": "code",
      "metadata": {
        "id": "2X7EaHHmxYwH"
      },
      "source": [
        "def cat_type(df):\n",
        "  df['type'] = categorizar(df['eventLabel'])\n",
        "  \n",
        "  return df"
      ],
      "execution_count": 33,
      "outputs": []
    },
    {
      "cell_type": "code",
      "metadata": {
        "id": "GNJARvTfkPP1"
      },
      "source": [
        "df_teste = df_busca_device.copy()"
      ],
      "execution_count": 34,
      "outputs": []
    },
    {
      "cell_type": "code",
      "metadata": {
        "id": "Ken4buyx90YA"
      },
      "source": [
        "#!pip install pandarallel"
      ],
      "execution_count": 36,
      "outputs": []
    },
    {
      "cell_type": "code",
      "metadata": {
        "id": "ZNtOT5R38lu4"
      },
      "source": [
        "#from pandarallel import pandarallel"
      ],
      "execution_count": 37,
      "outputs": []
    },
    {
      "cell_type": "code",
      "metadata": {
        "id": "0WKzBPG69xeF"
      },
      "source": [
        "#pandarallel.initialize(progress_bar=True)"
      ],
      "execution_count": 38,
      "outputs": []
    },
    {
      "cell_type": "code",
      "metadata": {
        "id": "bSpUBAdpkSfq"
      },
      "source": [
        "#df_teste.parallel_apply(cat_type,axis=1)"
      ],
      "execution_count": 39,
      "outputs": []
    },
    {
      "cell_type": "code",
      "metadata": {
        "id": "96uQMkbXkVrq"
      },
      "source": [
        "df_teste.apply(cat_type,axis=1)\n",
        "df_teste.head()"
      ],
      "execution_count": null,
      "outputs": []
    },
    {
      "cell_type": "code",
      "metadata": {
        "id": "Wrhtf1PVlAVk"
      },
      "source": [
        ""
      ],
      "execution_count": null,
      "outputs": []
    }
  ]
}